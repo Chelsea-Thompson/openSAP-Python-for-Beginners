{
 "cells": [
  {
   "cell_type": "markdown",
   "id": "279cca22",
   "metadata": {},
   "source": [
    "#  Week 1, Unit 3: Exercise (Python_1) \n",
    "_from openSAP \"Python for Beginners\"_\n",
    "\n",
    "### Instructions:\n",
    "Write a Python program that asks the user to enter:\n",
    "- A name\n",
    "- A start city\n",
    "- A destination city and\n",
    "- A means of transportation\n",
    "The program should then print that the _name_ wants to travel from _start_ to _destination_ by _means of transportation. \n",
    "\n",
    "### Below is an example execution of the program:  \n",
    "Please enter a name: Christian  \n",
    "Please enter a start: Aachen  \n",
    "Please enter a destination: Berlin  \n",
    "Please enter a means of transportation: Train  \n",
    "\n",
    "Christian wants to travel from Aachen to Berlin by Train"
   ]
  },
  {
   "cell_type": "code",
   "execution_count": 1,
   "id": "f7eae957",
   "metadata": {},
   "outputs": [
    {
     "name": "stdout",
     "output_type": "stream",
     "text": [
      "Please enter a name:Sally\n",
      "Please enter a starting city:London\n",
      "Please enter a destination:Sidney\n",
      "Please enter a means of transportation:plane\n",
      "Sally wants to travel from London to Sidney by plane\n"
     ]
    }
   ],
   "source": [
    "name = input('Please enter a name:')\n",
    "start = input('Please enter a starting city:')\n",
    "destination = input('Please enter a destination:')\n",
    "transportation = input('Please enter a means of transportation:')\n",
    "\n",
    "print(name + ' ' + 'wants to travel from' + ' ' + start + ' ' + 'to' + ' ' + destination + ' ' + 'by' + ' ' + transportation)"
   ]
  },
  {
   "cell_type": "code",
   "execution_count": null,
   "id": "513f9946",
   "metadata": {},
   "outputs": [],
   "source": []
  }
 ],
 "metadata": {
  "kernelspec": {
   "display_name": "Python 3 (ipykernel)",
   "language": "python",
   "name": "python3"
  },
  "language_info": {
   "codemirror_mode": {
    "name": "ipython",
    "version": 3
   },
   "file_extension": ".py",
   "mimetype": "text/x-python",
   "name": "python",
   "nbconvert_exporter": "python",
   "pygments_lexer": "ipython3",
   "version": "3.11.4"
  }
 },
 "nbformat": 4,
 "nbformat_minor": 5
}
