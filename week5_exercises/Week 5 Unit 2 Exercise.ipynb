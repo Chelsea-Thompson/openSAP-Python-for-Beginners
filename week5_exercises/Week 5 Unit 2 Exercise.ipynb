{
 "cells": [
  {
   "cell_type": "markdown",
   "id": "b72dc672",
   "metadata": {},
   "source": [
    "# Week 5, Unit 2: Exercise (Python_1)\n",
    "_from openSAP \"Python for Beginners\"_\n",
    "\n",
    "### Instructions:\n",
    "Implement a function named get_student_data(). The function should do the following:  \n",
    "- Using input() it asks for name, first name and student-id.\n",
    "- The values are packed into a tuple.\n",
    "- This tuple is returned from the function.  \n",
    "\n",
    "The function get_student_data() is then called in the program, the return value is assigned to a variable. Finally, output the variable using print()."
   ]
  },
  {
   "cell_type": "code",
   "execution_count": 1,
   "id": "88dae03c",
   "metadata": {},
   "outputs": [
    {
     "name": "stdout",
     "output_type": "stream",
     "text": [
      "Enter student's last name: Potter\n",
      "Enter student's first name: Harry\n",
      "Enter student's ID: 123456\n",
      "('Potter', 'Harry', '123456')\n"
     ]
    }
   ],
   "source": [
    "def get_student_data():\n",
    "    name = input(\"Enter student's last name: \")\n",
    "    first_name = input(\"Enter student's first name: \")\n",
    "    student_id = input(\"Enter student's ID: \")\n",
    "    return (name, first_name, student_id)\n",
    "\n",
    "student_info = get_student_data()\n",
    "\n",
    "print(student_info)"
   ]
  },
  {
   "cell_type": "code",
   "execution_count": null,
   "id": "ae23b96f",
   "metadata": {},
   "outputs": [],
   "source": []
  }
 ],
 "metadata": {
  "kernelspec": {
   "display_name": "Python 3 (ipykernel)",
   "language": "python",
   "name": "python3"
  },
  "language_info": {
   "codemirror_mode": {
    "name": "ipython",
    "version": 3
   },
   "file_extension": ".py",
   "mimetype": "text/x-python",
   "name": "python",
   "nbconvert_exporter": "python",
   "pygments_lexer": "ipython3",
   "version": "3.11.4"
  }
 },
 "nbformat": 4,
 "nbformat_minor": 5
}
