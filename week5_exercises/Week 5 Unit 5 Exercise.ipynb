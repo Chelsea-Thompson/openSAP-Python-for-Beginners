{
 "cells": [
  {
   "cell_type": "markdown",
   "id": "d67582b1",
   "metadata": {},
   "source": [
    "# Week 5, Unit 5: Exercise (Python_1)\n",
    "_from openSAP \"Python for Beginners\"_\n",
    "\n",
    "### Instructions:\n",
    "The stopping distance of a car can be calculated using the following rule of thumb:\n",
    "- The stopping distance of the car is the sum of the reaction path and the brake distance\n",
    "- The reaction path depends on the speed. It can be calculated by the following rule of thumb: The reaction path in meters is equal to the speed in km/h times 3/10. - Example: Speed 50km/h -> reaction path 15m\n",
    "- The brake distance depends as well on the speed. Again there is a rule of thumb which is: brake distance in m is equal to the speed in km/h divided by 10, the result has to be taken by the power of 2. - Example: Speed 50km/h -> (50/10)**2 = 25m\n",
    "- The stopping distance for a car with a speed of 50km/h is 15m + 25m = 40m\n",
    "\n",
    "#### Implement the following functions to calculate the stopping distance \n",
    "- function reaction_path() which gets the speed in km/h as input, calculates the reaction path according to the above rule of thumb and returns the path in m\n",
    "- function brake_distance() which gets the speed in km/h as input, calculates the brake distance according to the above rule of thumb and returns the distances in m\n",
    "- function stopping_distance() which gets the speed in km/h as input, calls above functions, adds their return values and returns this sum  \n",
    "\n",
    "Get a speed in km/h as input and output the stopping distance in m."
   ]
  },
  {
   "cell_type": "code",
   "execution_count": 3,
   "id": "62bc143c",
   "metadata": {},
   "outputs": [
    {
     "name": "stdout",
     "output_type": "stream",
     "text": [
      "What is the speed of the car in km/h? 50\n",
      "40.0\n"
     ]
    }
   ],
   "source": [
    "speed_of_car = int(input(\"What is the speed of the car in km/h? \"))\n",
    "\n",
    "def reaction_path(speed):\n",
    "    return speed * 3/10\n",
    "\n",
    "def brake_distance(speed):\n",
    "    return (speed / 10)**2\n",
    "\n",
    "def stopping_distance(speed):\n",
    "    return reaction_path(speed) + brake_distance(speed)\n",
    "\n",
    "print(stopping_distance(speed_of_car))"
   ]
  }
 ],
 "metadata": {
  "kernelspec": {
   "display_name": "Python 3 (ipykernel)",
   "language": "python",
   "name": "python3"
  },
  "language_info": {
   "codemirror_mode": {
    "name": "ipython",
    "version": 3
   },
   "file_extension": ".py",
   "mimetype": "text/x-python",
   "name": "python",
   "nbconvert_exporter": "python",
   "pygments_lexer": "ipython3",
   "version": "3.11.4"
  }
 },
 "nbformat": 4,
 "nbformat_minor": 5
}
