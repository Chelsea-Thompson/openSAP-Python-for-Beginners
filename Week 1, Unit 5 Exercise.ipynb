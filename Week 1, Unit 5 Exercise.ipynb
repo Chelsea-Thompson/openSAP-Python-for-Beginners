{
 "cells": [
  {
   "cell_type": "markdown",
   "id": "f4d6a863",
   "metadata": {},
   "source": [
    "# Week 1 Unit 5: Exercise (Python_1)\n",
    "_from openSAP \"Python for Beginners\"_\n",
    "\n",
    "### Instructions:\n",
    "Write a Python program that asks the user to enter three integer numbers. The program should output the largest of the three numbers. \n",
    "\n",
    "### Below is an example execution of the program: \n",
    "Please enter the first number: 23  \n",
    "Please enter the second number: 42  \n",
    "Please enter the third number: 11  \n",
    "\n",
    "The largest number is 42"
   ]
  },
  {
   "cell_type": "code",
   "execution_count": 3,
   "id": "8966ef54",
   "metadata": {},
   "outputs": [
    {
     "name": "stdout",
     "output_type": "stream",
     "text": [
      "Please enter a first number:6\n",
      "Please enter a second number:9\n",
      "Please enter a third number:10\n",
      "The largest number is 10\n"
     ]
    }
   ],
   "source": [
    "number1 = int(input('Please enter a first number:'))\n",
    "number2 = int(input('Please enter a second number:'))\n",
    "number3 = int(input('Please enter a third number:'))\n",
    "\n",
    "if number1 > number2 and number1 > number3:\n",
    "    print('The largest number is', number1)\n",
    "elif number2 > number1 and number2 > number3:\n",
    "    print('The largest number is', number2)\n",
    "elif number3 > number1 and number3 > number2:\n",
    "    print('The largest number is', number3)"
   ]
  },
  {
   "cell_type": "code",
   "execution_count": null,
   "id": "d08684e9",
   "metadata": {},
   "outputs": [],
   "source": []
  }
 ],
 "metadata": {
  "kernelspec": {
   "display_name": "Python 3 (ipykernel)",
   "language": "python",
   "name": "python3"
  },
  "language_info": {
   "codemirror_mode": {
    "name": "ipython",
    "version": 3
   },
   "file_extension": ".py",
   "mimetype": "text/x-python",
   "name": "python",
   "nbconvert_exporter": "python",
   "pygments_lexer": "ipython3",
   "version": "3.11.4"
  }
 },
 "nbformat": 4,
 "nbformat_minor": 5
}
