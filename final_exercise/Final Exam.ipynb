{
 "cells": [
  {
   "cell_type": "markdown",
   "id": "e99a0da2",
   "metadata": {},
   "source": [
    "# Final Exam (Python_1)\n",
    "_from openSAP \"Python for Beginners\"_\n",
    "\n",
    "### Wordle in Python \n",
    "Your task for the final assignment is to implement a Wordle clone in Python. The basis for your version of Wordle is the file 5_letter_words.txt[1]. It contains more than 5,700 five letter words. In order to build your version of Wordle perform the following steps: \n",
    "1. Implement a function word_list() that reads the 5_letter_words.txt file and returns a list of the words in the file.\n",
    "2. Implement a function random_word() that takes a list of words as a parameter and returns a random word from this list.\n",
    "3. Implement a function is_real_word() that takes two parameters, a guess and a word list and returns True if the word is in the word list and False otherwise. \n",
    "4. Implement a function check_guess() that takes two parameters. The first is the guessed word and the second is the word the user has to find. check_guess() returns a string containing the following characters: \n",
    "    - x for each character in the guess that is at the correct position. \n",
    "    - o for each character in the guess that is in the word but not at the correct position.\n",
    "    - _ for each character in the guess that is not part of the word. For example, check_guess(\"birds\", \"words\") should return __xxx. \n",
    "    - If a letter is used twice in the guess word and exists only once in the word to be found, then only one letter in the return string is marked. In case one of the two letters is positioned correctly, then this letter is marked with an x in the return string. For example, check_guess(\"carat\", \"train\") should return xo_o_\n",
    "5. Implement a function next_guess() that takes a word list as a parameter. The function asks the user for a guess, converts the guess to lower case and checks if the guess is in the word list. If this is the case, the guess is returned. Otherwise, the function asks the user for another guess. \n",
    "6. Implement a function play() that: \n",
    "    - Uses the functions word_list and random_word to select a random 5 letter word.\n",
    "    - Asks the user for a guess using the next_guess function. \n",
    "    - Checks each guess using the check_guess function and shows the result to the user. \n",
    "    - Checks if the users guessed the right word with six guess or less. If yes, the user wins and the function prints You won!. Otherwise the user loses and the function prints You lost! as well as The word was: followed by the word the user had to find.\n",
    "    \n",
    "Below is an example execution of the program:"
   ]
  },
  {
   "cell_type": "raw",
   "id": "374893b1",
   "metadata": {},
   "source": [
    "Please enter a guess: aaaaa\n",
    "That's not a real word!\n",
    "Please enter a guess: bbbbb\n",
    "That's not a real word!\n",
    "Please enter a guess: hello\n",
    "____O\n",
    "Please enter a guess: world\n",
    "_OO__\n",
    "Please enter a guess: story\n",
    "O_OO_\n",
    "Please enter a guess: hours\n",
    "_O_OO\n",
    "Please enter a guess: works\n",
    "_OO_O\n",
    "Please enter a guess: crops\n",
    "_OO_O\n",
    "You lost!\n",
    "The word was: visor"
   ]
  },
  {
   "cell_type": "markdown",
   "id": "a0cea045",
   "metadata": {},
   "source": [
    "And here is another example execution of the program:"
   ]
  },
  {
   "cell_type": "raw",
   "id": "fb0cb7d1",
   "metadata": {},
   "source": [
    "Please enter a guess: hello\n",
    "OO___\n",
    "Please enter a guess: there\n",
    "XXX_X\n",
    "Please enter a guess: these\n",
    "XXXXX\n",
    "You won!"
   ]
  },
  {
   "cell_type": "code",
   "execution_count": 1,
   "id": "5ac45cab",
   "metadata": {},
   "outputs": [
    {
     "name": "stdout",
     "output_type": "stream",
     "text": [
      "Enter your guess: adieu\n",
      "_O___\n",
      "Enter your guess: donut\n",
      "OX___\n",
      "Enter your guess: coder\n",
      "_XO__\n",
      "Enter your guess: folds\n",
      "_X_XX\n",
      "Enter your guess: bonds\n",
      "_X_XX\n",
      "Enter your guess: woods\n",
      "_XXXX\n",
      "You Lost!\n",
      "The word was: goods\n"
     ]
    }
   ],
   "source": [
    "import random\n",
    "\n",
    "def word_list():\n",
    "    with open(\"5_letter_words.txt\", 'r') as file:\n",
    "        word_list = [line.strip() for line in file]\n",
    "    return word_list\n",
    "\n",
    "def random_word(word_list):\n",
    "    return random.choice(word_list)\n",
    "\n",
    "def is_real_word(guess, word_list):\n",
    "    return guess in word_list\n",
    "\n",
    "def check_guess(guess, random_word):\n",
    "    string = \"\"\n",
    "    character = []\n",
    "    for _ in range(len(guess)):\n",
    "        if guess[_] == random_word[_]:\n",
    "            string += \"X\"\n",
    "        elif guess[_] in random_word and guess[_] not in character or guess.count(guess[_]) == random_word.count(guess[_]) > 1:\n",
    "            string += \"O\"\n",
    "        else:\n",
    "            string += \"_\"\n",
    "        character.append(guess[_])\n",
    "    return string\n",
    "\n",
    "def next_guess(word_list):\n",
    "    while True:\n",
    "        guess = input(\"Enter your guess: \").lower()\n",
    "        if guess in word_list:\n",
    "            return guess\n",
    "        else:\n",
    "            print(\"Word not in word list. Please try again!\")\n",
    "\n",
    "def play():\n",
    "    word_list_var = word_list()\n",
    "    random_word_var = random_word(word_list_var)\n",
    "    count = 0\n",
    "    while count < 6:\n",
    "        guess = next_guess(word_list_var)\n",
    "        if check_guess(guess, random_word_var) == \"XXXXX\":\n",
    "            print(check_guess(guess, random_word_var))\n",
    "            print(\"You Won!\")\n",
    "            break\n",
    "        elif count < 5:\n",
    "            print(check_guess(guess, random_word_var))\n",
    "            count += 1\n",
    "        else:\n",
    "            print(check_guess(guess, random_word_var))\n",
    "            print(\"You Lost!\")\n",
    "            print(\"The word was:\", random_word_var)\n",
    "            break\n",
    "\n",
    "play()"
   ]
  },
  {
   "cell_type": "code",
   "execution_count": null,
   "id": "8acdd125",
   "metadata": {},
   "outputs": [],
   "source": []
  }
 ],
 "metadata": {
  "kernelspec": {
   "display_name": "Python 3 (ipykernel)",
   "language": "python",
   "name": "python3"
  },
  "language_info": {
   "codemirror_mode": {
    "name": "ipython",
    "version": 3
   },
   "file_extension": ".py",
   "mimetype": "text/x-python",
   "name": "python",
   "nbconvert_exporter": "python",
   "pygments_lexer": "ipython3",
   "version": "3.11.4"
  }
 },
 "nbformat": 4,
 "nbformat_minor": 5
}
