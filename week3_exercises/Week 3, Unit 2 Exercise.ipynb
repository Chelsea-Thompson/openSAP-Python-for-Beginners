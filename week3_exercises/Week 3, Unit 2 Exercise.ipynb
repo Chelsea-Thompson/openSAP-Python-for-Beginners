{
 "cells": [
  {
   "cell_type": "markdown",
   "id": "333be109",
   "metadata": {},
   "source": [
    "# Week 3, Unit 2: Exercise (Python_1)\n",
    "_from openSAP \"Python for Beginners\"_\n",
    "\n",
    "### Instructions:\n",
    "\n",
    "One of the nice features of Python is that it supports Unicode. Therefore it is possible to use emojis just like other characters in strings. In this exercise you will use this feature to build an emoji translater.\n",
    "\n",
    "Below is a dictionary that maps English terms to Emojis (broken into multiple lines for better readability).\n",
    "\n",
    "{  \n",
    "\"happy\": \"😃\",  \n",
    "\"heart\": \"😍\",  \n",
    "\"rotfl\": \"🤣\",  \n",
    "\"smile\": \"😊\",  \n",
    "\"crying\": \"😭\",  \n",
    "\"kiss\": \"😘\",  \n",
    "\"clap\": \"👏\",  \n",
    "\"grin\": \"😁\",  \n",
    "\"fire\": \"🔥\",  \n",
    "\"broken\": \"💔\",  \n",
    "\"think\": \"🤔\",  \n",
    "\"excited\": \"🤩\",  \n",
    "\"boring\": \"🙄\",  \n",
    "\"winking\": \"😉\",  \n",
    "\"ok\": \"👌\",  \n",
    "\"hug\": \"🤗\",  \n",
    "\"cool\": \"😎\",  \n",
    "\"angry\": \"😠\",  \n",
    "\"python\": \"🐍\"  \n",
    "}\n",
    "\n",
    "Use this dictionary to build a program that:\n",
    "\n",
    "1. Reads a sentence from the user.\n",
    "2. Replaces all the words in the sentence with the corresponding Emoji.\n",
    "\n",
    "Below is an example execution of the program:\n",
    "\n",
    "Please enter a sentence: I'm so excited to learn python  \n",
    "I'm so 🤩 to finally learn 🐍\n",
    "\n",
    "### Hint \n",
    "Use the .split() method to split a sentence into its words. The result of \n",
    "\n",
    "sentence = \"This is a test\"  \n",
    "words = sentence.split()  \n",
    "print(words)\n",
    "\n",
    "is \n",
    "\n",
    "[\"This\", \"is\", \"a\", \"test\"]\n",
    "\n",
    "You should also be careful about spaces in the resulting sentence."
   ]
  },
  {
   "cell_type": "code",
   "execution_count": 1,
   "id": "17ab609e",
   "metadata": {},
   "outputs": [
    {
     "name": "stdout",
     "output_type": "stream",
     "text": [
      "Please enter a sentence:Learning python is fire\n",
      " Learning 🐍 is 🔥\n"
     ]
    }
   ],
   "source": [
    "emoji_dict = {\n",
    "    \"happy\": \"😃\",\n",
    "    \"heart\": \"😍\",\n",
    "    \"rotfl\": \"🤣\",\n",
    "    \"smile\": \"😊\",\n",
    "    \"crying\": \"😭\",\n",
    "    \"kiss\": \"😘\",\n",
    "    \"clap\": \"👏\",\n",
    "    \"grin\": \"😁\",\n",
    "    \"fire\": \"🔥\",\n",
    "    \"broken\": \"💔\",\n",
    "    \"think\": \"🤔\",\n",
    "    \"excited\": \"🤩\",\n",
    "    \"boring\": \"🙄\",\n",
    "    \"winking\": \"😉\",\n",
    "    \"ok\": \"👌\",\n",
    "    \"hug\": \"🤗\",\n",
    "    \"cool\": \"😎\",\n",
    "    \"angry\": \"😠\",\n",
    "    \"python\": \"🐍\",\n",
    "}\n",
    "\n",
    "sentence = input(\"Please enter a sentence:\")\n",
    "words = sentence.split()\n",
    "emoji_sent = \"\"\n",
    "for word in words:\n",
    "    if word in emoji_dict:\n",
    "        emoji_sent = emoji_sent + \" \" + emoji_dict[word]\n",
    "    else:\n",
    "        emoji_sent = emoji_sent + \" \" + word\n",
    "print(emoji_sent)"
   ]
  },
  {
   "cell_type": "code",
   "execution_count": null,
   "id": "157b5702",
   "metadata": {},
   "outputs": [],
   "source": []
  }
 ],
 "metadata": {
  "kernelspec": {
   "display_name": "Python 3 (ipykernel)",
   "language": "python",
   "name": "python3"
  },
  "language_info": {
   "codemirror_mode": {
    "name": "ipython",
    "version": 3
   },
   "file_extension": ".py",
   "mimetype": "text/x-python",
   "name": "python",
   "nbconvert_exporter": "python",
   "pygments_lexer": "ipython3",
   "version": "3.11.4"
  }
 },
 "nbformat": 4,
 "nbformat_minor": 5
}
