{
 "cells": [
  {
   "cell_type": "markdown",
   "id": "3e594f9b",
   "metadata": {},
   "source": [
    "# Week 3: Assignment (Python_1)\n",
    "_from openSAP \"Python for Beginners\"_\n",
    "\n",
    "### Instructions: \n",
    "A Caesar cipher is a simple encryption techique. The encryption using a Caesar cipher replaces a letter in the plain text with a letter that is a fixed number down in the alphabet. For example, with a shift of 5 the following substitutions would take place:\n",
    "- a → f\n",
    "- b → g\n",
    "- c → h\n",
    "- …\n",
    "- v → a\n",
    "- w → b\n",
    "- …\n",
    "- z → e\n",
    "\n",
    "Using this substitution, a plain text can be encrypted:\n",
    "- Plaintext: programming python is fun!\n",
    "- Encrypted text: uwtlwfrrnsl udymts nx kzs!\n",
    "\n",
    "Your task for the assignment is to implement a Caesar cipher with a shift of 5. The program should ask the user for a plain text sentence and print the encrypted text. \n",
    "\n",
    "Here is an example execution of the program:\n",
    "Please enter a sentence: python is fun!  \n",
    "The encrypted sentence is: udymts nx kzs!\n",
    "\n",
    "Note that your program should not encrypt special characters like a space or an exclamation mark. If no substitution is defined for a character, the plain text character is used in the encryption as well (e.g. the _!_ in the example above).\n",
    "\n",
    "### Hint:\n",
    "1. There are several approaches to solve this exercise. The simplest solution would be to create a dictionary containing the necessary substitutions. \n",
    "2. To avoid handling upper and lower case letters it is best to first convert the user input to lower case. After that you only need to take into account lower case letters. A string can be converted into lower case using the .lower() method. \n",
    "\n",
    "The result of the following example:\n",
    "\n",
    "s = \"TEST\"  \n",
    "s = s.lower()  \n",
    "print(s)  \n",
    "\n",
    "is:  \n",
    "\n",
    "test"
   ]
  },
  {
   "cell_type": "code",
   "execution_count": 1,
   "id": "f2a9e787",
   "metadata": {},
   "outputs": [
    {
     "name": "stdout",
     "output_type": "stream",
     "text": [
      "Please enter a sentence: Programming Python is fun!\n",
      "The encrypted sentence is: uwtlwfrrnsl udymts nx kzs!\n"
     ]
    }
   ],
   "source": [
    "dict_calpha = {\n",
    "    \"a\": \"f\",\n",
    "    \"b\": \"g\",\n",
    "    \"c\": \"h\",\n",
    "    \"d\": \"i\",\n",
    "    \"e\": \"j\",\n",
    "    \"f\": \"k\",\n",
    "    \"g\": \"l\",\n",
    "    \"h\": \"m\",\n",
    "    \"i\": \"n\",\n",
    "    \"j\": \"o\",\n",
    "    \"k\": \"p\",\n",
    "    \"l\": \"q\",\n",
    "    \"m\": \"r\",\n",
    "    \"n\": \"s\",\n",
    "    \"o\": \"t\",\n",
    "    \"p\": \"u\",\n",
    "    \"q\": \"v\",\n",
    "    \"r\": \"w\",\n",
    "    \"s\": \"x\",\n",
    "    \"t\": \"y\",\n",
    "    \"u\": \"z\",\n",
    "    \"v\": \"a\",\n",
    "    \"w\": \"b\",\n",
    "    \"x\": \"c\",\n",
    "    \"y\": \"d\",\n",
    "    \"z\": \"e\"\n",
    "}\n",
    "\n",
    "sentence = input(\"Please enter a sentence: \") \n",
    "sentence = sentence.lower()\n",
    "\n",
    "encrypted_sentence = \"\"\n",
    "for letter in sentence:\n",
    "    if letter in dict_calpha:\n",
    "        encrypted_sentence += dict_calpha[letter]\n",
    "    else: \n",
    "        encrypted_sentence += letter\n",
    "print(\"The encrypted sentence is:\", encrypted_sentence)"
   ]
  }
 ],
 "metadata": {
  "kernelspec": {
   "display_name": "Python 3 (ipykernel)",
   "language": "python",
   "name": "python3"
  },
  "language_info": {
   "codemirror_mode": {
    "name": "ipython",
    "version": 3
   },
   "file_extension": ".py",
   "mimetype": "text/x-python",
   "name": "python",
   "nbconvert_exporter": "python",
   "pygments_lexer": "ipython3",
   "version": "3.11.4"
  }
 },
 "nbformat": 4,
 "nbformat_minor": 5
}
