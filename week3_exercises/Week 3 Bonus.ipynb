{
 "cells": [
  {
   "cell_type": "markdown",
   "id": "b18933a6",
   "metadata": {},
   "source": [
    "# Week 3: Bonus (Python_1)\n",
    "_from openSAP \"Python for Beginners\"_\n",
    "\n",
    "### Instructions:\n",
    "\n",
    "The bonus exercise builds upon the assignment of this week. Here is the description of this weeks exercise again:\n",
    "\n",
    "A Caesar cipher is a simple encryption technique. The encryption using a Caesar cipher replaces a letter in the plain text with a letter that is a fixed number down in the alphabet. For example, with a shift of 5 the following substitutions would take place: \n",
    "- a → f\n",
    "- b → g\n",
    "- c → h\n",
    "- …\n",
    "- v → a\n",
    "- w → b\n",
    "- …\n",
    "- z → e\n",
    "\n",
    "Using this substitution, a plain text can be encrypted:\n",
    "- Plaintext: programming python is fun!\n",
    "- Encrypted text: uwtlwfrrnsl udymts nx kzs!\n",
    "\n",
    "Your task for the bonus exercise is the implementation of a Caesar cipher with a variable shift. The program should ask the user for a number of characters for the shift first. Next the program should ask the user for a plain text sentence and print the encrypted text. Here is an example execution of the program: \n",
    "\n",
    "Please enter the number of places to shift: 5  \n",
    "Please enter a sentence: python is fun!  \n",
    "The encrypted sentence is: udymts nx kzs!\n",
    "\n",
    "Here is another execution of the program:  \n",
    "Please enter the number of places to shift: 10  \n",
    "Please enter a sentence: python is fun!  \n",
    "The encrypted sentence is: zidryx sc pex!\n",
    "\n",
    "And yet another one:  \n",
    "Please enter the number of places to shift: 0  \n",
    "Please enter a sentence: python is fun!  \n",
    "The encrypted sentence is: python is fun!\n",
    "\n",
    "Your program should check that only numbers between 0 and 25 are entered for the number of places to shift!  \n",
    "Please enter the number of places to shift: 60  \n",
    "You need to enter a number between 0 and 25!  \n",
    "\n",
    "### Hints:\n",
    "1. The simple solution using a dictionary will not work for this exercise. Instead you need to build the substitution dynamically. This can be done using the find method and some calculations:  \n",
    "abc = \"abcdefghijklmnopqrstuvwxyz\"  \n",
    "char_index = abc.find(\"f\")\n",
    "encrypted_char = abc[char_index + 5]\n",
    "\n",
    "2. Note that in the example above there will be an error if char_index + 5 is larger than 25. You need to use the modulo (%) operator to take care of this situation. \n",
    "3. In order to check if the user entered a number, the method isdecimal() can be used.\n",
    "4. To avoid handling upper and lower case letters it is best to first convert the user input to lower case. After that you only need to take into account lower case letters. A string can be converted into lower case using the .lower() method. \n",
    "\n",
    "The result of the following example:  \n",
    "s = \"TEST\"  \n",
    "s = s.lower()  \n",
    "print(s)  \n",
    "\n",
    "is:  \n",
    "\n",
    "test"
   ]
  },
  {
   "cell_type": "code",
   "execution_count": 1,
   "id": "8dcd665d",
   "metadata": {},
   "outputs": [
    {
     "name": "stdout",
     "output_type": "stream",
     "text": [
      "Please enter the number of places to shift: 10\n",
      "Please enter a sentence: python is fun!\n",
      "The encrypted sentence is: zidryx sc pex!\n"
     ]
    }
   ],
   "source": [
    "abc = \"abcdefghijklmnopqrstuvwxyz\"\n",
    "shift = input(\"Please enter the number of places to shift: \")\n",
    "\n",
    "if not shift.isdecimal() or int(shift) not in range(0, 26):\n",
    "    print(\"You need to enter a number between 0 and 25!\")\n",
    "else:\n",
    "    shift = int(shift)\n",
    "    sentence = input(\"Please enter a sentence: \")\n",
    "    sentence = sentence.lower()\n",
    "    encrypted_sentence = \"\"\n",
    "    \n",
    "    for char in sentence:\n",
    "        if char in abc:\n",
    "            char_index = abc.find(char)\n",
    "            encrypted_char = abc[(char_index + shift) % 26]\n",
    "            encrypted_sentence += encrypted_char\n",
    "        else:\n",
    "            encrypted_sentence += char\n",
    "            \n",
    "    print(\"The encrypted sentence is:\", encrypted_sentence)"
   ]
  }
 ],
 "metadata": {
  "kernelspec": {
   "display_name": "Python 3 (ipykernel)",
   "language": "python",
   "name": "python3"
  },
  "language_info": {
   "codemirror_mode": {
    "name": "ipython",
    "version": 3
   },
   "file_extension": ".py",
   "mimetype": "text/x-python",
   "name": "python",
   "nbconvert_exporter": "python",
   "pygments_lexer": "ipython3",
   "version": "3.11.4"
  }
 },
 "nbformat": 4,
 "nbformat_minor": 5
}
