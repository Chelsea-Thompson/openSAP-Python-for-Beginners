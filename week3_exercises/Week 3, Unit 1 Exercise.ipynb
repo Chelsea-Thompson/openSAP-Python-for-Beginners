{
 "cells": [
  {
   "cell_type": "markdown",
   "id": "2d475cee",
   "metadata": {},
   "source": [
    "# Week 3 Unit 1: Exercise (Python_1)\n",
    "_from openSAP \"Python for Beginners\"_\n",
    "\n",
    "### Instructions:\n",
    "\n",
    "Write a program that asks the user for the given name, surname and field of study for a student. Store this data in a tuple and print the tuple. Below is an example execution of the program.\n",
    "\n",
    "Please enter the given name of the student: Harry  \n",
    "Please enter the surname of the student: Potter  \n",
    "Please enter the field of study of the student: Defence Against the Dark Arts  \n",
    "('Harry', 'Potter', 'Defence Against the Dark Arts')"
   ]
  },
  {
   "cell_type": "code",
   "execution_count": 1,
   "id": "6e566f68",
   "metadata": {},
   "outputs": [
    {
     "name": "stdout",
     "output_type": "stream",
     "text": [
      "Please enter the given name of the student:Harry\n",
      "Please enter the surname of the student:Potter\n",
      "Please enter the field of study of the student:Defence Against the Dark Arts\n",
      "('Harry', 'Potter', 'Defence Against the Dark Arts')\n"
     ]
    }
   ],
   "source": [
    "name = input(\"Please enter the given name of the student:\")\n",
    "surname = input(\"Please enter the surname of the student:\")\n",
    "field_of_study = input(\"Please enter the field of study of the student:\")\n",
    "\n",
    "tup = (name, surname, field_of_study)\n",
    "\n",
    "print(tup)"
   ]
  }
 ],
 "metadata": {
  "kernelspec": {
   "display_name": "Python 3 (ipykernel)",
   "language": "python",
   "name": "python3"
  },
  "language_info": {
   "codemirror_mode": {
    "name": "ipython",
    "version": 3
   },
   "file_extension": ".py",
   "mimetype": "text/x-python",
   "name": "python",
   "nbconvert_exporter": "python",
   "pygments_lexer": "ipython3",
   "version": "3.11.4"
  }
 },
 "nbformat": 4,
 "nbformat_minor": 5
}
