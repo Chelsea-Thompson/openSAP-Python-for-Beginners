{
 "cells": [
  {
   "cell_type": "markdown",
   "id": "c495638e",
   "metadata": {},
   "source": [
    "# Week 1: Assignment (Python_1)\n",
    "_from openSAP \"Python for Beginners\"_\n",
    "\n",
    "### Instructions:\n",
    "\n",
    "Triangles can be classified based on their angles. \n",
    "\n",
    "- A right triangle has one angle of 90&deg;\n",
    "- An obtuse triangle has one angle of more than 90&deg;\n",
    "- A triangle is acute if all three angles are less than 90&deg;\n",
    "\n",
    "Write a program that asks the user for the values of three angles in degrees. First check if the entered values are valid. The values are only valid if they are >0 and if their sum is 180&deg;. If the entered values are valid, classify the triangle as right, acute or obtuse.\n",
    "\n",
    "### Below are two example executions of the program with invalid values:\n",
    "\n",
    "Please enter the first angle: 60  \n",
    "Please enter the second angle: 60  \n",
    "Please enter the third angle: 100  \n",
    "The entered values are not valid.\n",
    "\n",
    "Please enter the first angle: 200  \n",
    "Please enter the second angle: -10  \n",
    "Please enter the third angle: -10  \n",
    "Angles smaller than 0 are not valid. \n",
    "\n",
    "### Here is another example execution of the program:\n",
    "\n",
    "Please enter the first angle: 60  \n",
    "Please enter the second angle: 30  \n",
    "Please enter the third angle: 90  \n",
    "The triangle is a right triangle."
   ]
  },
  {
   "cell_type": "markdown",
   "id": "a90f73ee",
   "metadata": {},
   "source": [
    "### Attempt 1"
   ]
  },
  {
   "cell_type": "code",
   "execution_count": 17,
   "id": "4947f2d7",
   "metadata": {},
   "outputs": [
    {
     "name": "stdout",
     "output_type": "stream",
     "text": [
      "Please enter the first angle:100\n",
      "Please enter the second angle:40\n",
      "Please enter the third angle:40\n",
      "The triangle is an obtuse triangle.\n"
     ]
    }
   ],
   "source": [
    "a1 = int(input('Please enter the first angle:'))\n",
    "a2 = int(input('Please enter the second angle:'))\n",
    "a3 = int(input('Please enter the third angle:'))\n",
    "total = a1 + a2 + a3 \n",
    "\n",
    "if a1 <= 0 or a2 <= 0 or a3 <= 0:\n",
    "    print('Angles smaller than or equal to 0 are not valid.')\n",
    "elif total != 180:\n",
    "    print('The entered values are not valid.')\n",
    "elif a1 == 90 or a2 == 90 or a3 == 90:\n",
    "    print('The triangle is a right triangle.')\n",
    "elif a1 > 90 or a2 > 90 or a3 > 90:\n",
    "    print('The triangle is an obtuse triangle.')\n",
    "elif a1 < 90 and a2 < 90 and a3 < 90:\n",
    "    print('The triangle is an acute triangle.')"
   ]
  }
 ],
 "metadata": {
  "kernelspec": {
   "display_name": "Python 3 (ipykernel)",
   "language": "python",
   "name": "python3"
  },
  "language_info": {
   "codemirror_mode": {
    "name": "ipython",
    "version": 3
   },
   "file_extension": ".py",
   "mimetype": "text/x-python",
   "name": "python",
   "nbconvert_exporter": "python",
   "pygments_lexer": "ipython3",
   "version": "3.11.4"
  }
 },
 "nbformat": 4,
 "nbformat_minor": 5
}
