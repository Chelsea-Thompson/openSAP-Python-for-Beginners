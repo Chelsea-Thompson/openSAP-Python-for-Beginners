{
 "cells": [
  {
   "cell_type": "markdown",
   "metadata": {},
   "source": [
    "# Examples of non-standard libraries\n",
    "\n",
    "There are many popular libraries which are not part of the default Python installation. You learned how to find and\n",
    "install them in the previous unit. Now a few libraries are presented. Note that this unit will not give \n",
    "a complete introduction in any of these libraries. Instead the goal of this unit is to give an overview \n",
    "of the large variety of available libraries. \n",
    "\n",
    "\n",
    "## [requests](https://docs.python-requests.org/en/latest/) - HTTP for Humans\n",
    "\n",
    "Using the `requests` library, you can connect to web servers and fetch their content.\n",
    "The [Quickstart Guide](https://docs.python-requests.org/en/latest/user/quickstart/)\n",
    "contains examples on how to use it and what you can do with it."
   ]
  },
  {
   "cell_type": "code",
   "execution_count": 2,
   "metadata": {},
   "outputs": [
    {
     "name": "stdout",
     "output_type": "stream",
     "text": [
      "The word 'Python' is used 1391 times in its Wikipedia entry!\n"
     ]
    }
   ],
   "source": [
    "import requests\n",
    "\n",
    "r = requests.get(\"https://en.wikipedia.org/wiki/Python_(programming_language)\")\n",
    "print(\n",
    "    f\"The word 'Python' is used {r.text.count('Python')} times in its Wikipedia entry!\"\n",
    ")"
   ]
  },
  {
   "cell_type": "markdown",
   "metadata": {},
   "source": [
    "## [BeautifulSoup](https://www.crummy.com/software/BeautifulSoup/bs4/doc/) - Analyzing Webpages\n",
    "\n",
    "BeautifulSoup is a library which perfectly complements requests, the library just introduced. Whereas requests offers the possibility to download webpages, BeautifulSoup supports the analysis of these webpages. (Actually, the name *BeautifulSoup* goes back to syntactically incorrect webpages containing just a \"soup of tags\"). \n",
    "\n",
    "In the following cell, the web-page from [The Guardian](https://www.theguardian.com) is first downloaded with `request.get()`. The content is then analyzed using `BeautifulSoup()`. With the help of the method `.find_all()` all headings of type `h3` are then listed and printed out."
   ]
  },
  {
   "cell_type": "code",
   "execution_count": 4,
   "metadata": {},
   "outputs": [
    {
     "name": "stdout",
     "output_type": "stream",
     "text": [
      "'An impossible day'At least 93 confirmed killed after deadliest US blaze in 100 years\n",
      "Singed trees, scorched homesLahaina reckons with unfathomable losses\n",
      "Hawaii firesGrowing threat of ‘devastating’ fires as island landscape dries and warms\n",
      "LahainaA visual guide to the explosive blaze\n",
      "TrumpEx-president running for 2024 ‘to stay out of jail’, Republican rival says\n",
      "‘Stressed beyond her limits’Co-owner of Kansas newspaper dies after police raid\n",
      "‘People just want change’Political circus at Iowa state fair can’t dispel civic discontent\n",
      "ExclusiveUkraine desperate for help clearing mines, says defence minister\n",
      "PennsylvaniaHouse explosion kills five and destroys three structures\n",
      "Black SeaRussian warship fires warning shots at cargo ship in Black Sea\n",
      "Grand CanyonBoy, 13, survives after falling 100ft from north rim\n",
      "‘Wrong place, wrong time’Michigan cops apologize for detaining Black child\n",
      "IndonesiaMiss Universe cuts ties with pageant over sexual assault claims\n",
      "‘Macabre curiosities’Top US medical museum confronts skeletons of its past\n",
      "‘It helps with my stress’US basic income project shows signs of success\n",
      "Spain75 years on, Franco’s cruel punishment haunts a mountain village\n",
      "PhoenixHeat deaths surge in the US's hottest city as governor declares statewide ‘heat emergency’\n",
      "Parents and parentingI have never wanted children – and don’t think I will change my mind\n",
      "MusicMeet the drag queen who hit No 1 on the Christian music charts – with help from a Trump ally\n",
      "Losing Our Religion reviewTrump and the crisis of US Christianity\n",
      "Cleopatra at 60New book reveals ‘stunning profligacy’ of infamous Hollywood epic\n",
      "Gimme sculptureNew statues of Jagger and Richards are a dud – but here are eight of Britain’s best\n",
      "NutritionShould I worry about my BMI?\n",
      "PsychologyCan you change a Brexit state of mind? \n",
      "How we break upAn anatomy of divorce\n",
      "KhersonBaby among seven people killed in Russian shelling\n",
      "‘You don’t survive that’Ukraine sappers dice with death to clear Russian mines\n",
      "UkraineKyiv fires missiles at Kerch Bridge connecting Crimea to Russia\n",
      "At a glanceWhat we know on day 536 of the invasion\n",
      "Putin and Xi are the Laurel and Hardy of statesmen – but it’s no laughing matter\n",
      "Always judge a book by its cover! What I learned teaching life-writing lessons\n",
      "Millennials don’t all suffer alike. What really divides them is privilege\n",
      "We’re a queer couple looking for co-parents to raise a child with. It’s been quite a saga\n",
      "Are Europeans actually less enthusiastic than Americans - or just dehydrated?\n",
      "As temperatures soar and wildfires burn abroad, summer dread is returning to my body\n",
      "Power rankingsSweden joy, England make move\n",
      "LionessesEngland ready to end semi-final misery, says Bronze\n",
      "Australia v EnglandFive things about the Matildas’ opponents\n",
      "Golden BootKeep tabs on the top goalscorers, game by game\n",
      "USAHow rabid capitalism helped sink their World Cup hopes\n",
      "England v AustraliaRivalry takes new twist as Lionesses look to learn from defeat\n",
      "Precious viewingPlane passengers celebrate after shootout – except one\n",
      "Chelsea 1-1 LiverpoolNew-look rivals share spoils after Disasi's debut goal\n",
      "Jonathan Wilson Chelsea and Liverpool show need for Caicedo\n",
      "As it happenedRead Rob Smyth's MBM report \n",
      "Live scoresAll the goals as they go in around Europe\n",
      "Brentford 2-2 TottenhamPostecoglou starts with draw to kick off post-Kane era\n",
      "'Real resilience'Manager hopes Spurs can kick on after Kane loss\n",
      "Women's OpenHull falls short in major challenge as Vu roars to title\n",
      "‘Proud’ Wozniacki back on tour and looking to get better\n",
      "LiverpoolKlopp braced to lose out on Caicedo and plays down Salah strop\n",
      "BoxingJoshua stops Helenius in seven, setting stage for Wilder clash\n",
      "‘At what price?’German press skeptical of Kane’s £100m transfer\n",
      "Tom BradyNFL great meets Birmingham fans in pub before match\n",
      "\n",
      "        Play the Guardian's new daily word game and share your score with your\n",
      "        friends\n",
      "      \n",
      "Edinburgh book festivalAuthor walks out over sponsor’s fossil fuel links\n",
      "‘An utter disgrace’Ninety percent of England’s most precious river habitats blighted by raw sewage and farming pollution\n",
      "It’s the ‘Swiss army knife of the sea’But can kelp survive rising marine heat?\n",
      "EnvironmentProspectors hit the gas in the hunt for ‘white hydrogen’\n",
      "Virginia Police chase involving stolen ambulance results in a dozen crashes\n",
      "WyomingWoman dies after falling off mountain in Grand Teton national park\n",
      "Marjorie Taylor GreeneCampaign manager to pay $25k over Ohio train derailment scam\n",
      "TexasState questions rights of fetus in prison guard lawsuit despite arguing opposite on abortion\n",
      "LouisianaCarbon-capture gold rush an ‘insult’ to locals in emissions-hit state\n",
      "EducationOklahoma sued for funding US’s first ‘state-sponsored’ religious charter school\n",
      "GeorgiaDA summons former lawmaker and journalist in Trump election inquiry\n",
      "New YorkMedical centers in spotlight as another US doctor accused of sexual abuse\n",
      "Opioids crisisUS court move to reassess Sackler deal ‘opens window’ for victims’ families\n",
      "AlabamaMontgomery riverboat co-captain says he was hanging on ‘for dear life’ in brawl\n",
      "‘I’m not afraid’Ecuador’s assassinated presidential candidate who fought the cartels\n",
      "EcuadorAndrea González picked to replace assassinated presidential candidate\n",
      "ChinaMudslide in Xi’an leaves 21 dead and six missing\n",
      "‘The Holocaust happened on British soil’Inquiry into​ Nazi camps creates bitter divide on Channel Island\n",
      "IranGunman kills one and injures eight in attack on Shah Cheragh shrine\n",
      "Saudi ArabiaArrest of scholar and influencer another sign of social media crackdown\n",
      "‘The state is murderous’Brazilians vow justice for 13-year-old boy shot by police\n",
      "Northern IrelandOmagh service remembers the 29 killed in 1998 in worst Troubles atrocity\n",
      "UKWe risk being seen as the ‘nasty party’ again, warn senior Conservatives\n",
      "ItalyUK government data scientist killed in cycle crash\n",
      "‘Like horse trading’Credit Suisse retail investors challenge UBS takeover\n",
      "Football WeeklyWomen’s Football Weekly: Lionesses to face Matildas in semi-final clash\n",
      "The Guardian's Women's Football WeeklyLionesses to face Matildas in semi-final clash – Women’s Football Weekly\n",
      "WeekendWeekend podcast: author Jacqueline Wilson, Marina Hyde on Matt Hancock as ‘just Ken’, and is snacking a problem?\n",
      "Politics Weekly AmericaThe power of junk food companies in Washington – podcast\n",
      "The Audio Long ReadBest of 2023… so far: ‘I know where the bodies are buried’: one woman’s mission to change how the police investigate rape – podcast\n",
      "Today in FocusHow the search for UFOs reached the US Congress\n",
      "Football WeeklyPremier League season preview: Liverpool to Wolves – Football Weekly\n",
      "‘It’s cheap therapy, innit!’Comedian Mawaan Rizwan on family, adulthood  and his brilliant new TV series\n",
      "Actor Susan WokomaWe all want to be married to Emma Thompson, don’t we?\n",
      "Heart of Stone review Uneven but enjoyable Bond-alike adventure\n",
      "BelgiumUniversity launches Taylor Swift-inspired literature course\n",
      "My friend BillyMark Kermode remembers The Exorcist director William Friedkin\n",
      "‘Already vulnerable’UK film and TV workers feel the pinch from US strike\n",
      "Burned to the Ground\n",
      "Sunday with Nigella Lawson‘I spend much of the day pottering’\n",
      "‘It’s become a lot more like a share houseWhen adult children stay in the parental home\n",
      "Ask PhilippaWhy does my loving partner refuse to show affection in public?\n",
      "Nights at the opera and days in the piazzaThe joy of visiting Verona\n",
      "Money hacksHow to help support good causes during the cost of living crisis\n",
      "Parents and parentingHow to tempt my baby daughter to take her first steps?\n",
      "People in MauiHow have you been affected by the wildfires?\n",
      "Tell usAre you using AI for emotional connection or support?\n",
      "Social mediaTell us about the strangest item you’ve bought\n",
      "US actorsWhy are you striking?\n",
      "‘Into brain and the heart’How China is using apps to woo Taiwan’s teenagers\n",
      "‘Better martyrs’The growing role of women in the far-right movement\n",
      "The year that broke US politicsWhat 1968 can tell us about 2024\n",
      "‘Never again'Is Britain finally ready to return to the office?\n",
      "Behind the ticking time bombShould we fear China’s slide into deflation?\n",
      "Florida sent a Colombian woman to CaliforniaNow she’s on the brink of homelessness\n",
      "California dreamin’Scenes of Black joy and leisure in the Jim Crow era\n",
      "Now you sea meMaritime art made of beach rubbish \n",
      "The show must go on! Edinburgh festival 2023 continues\n",
      "‘This environment is normal in Tokyo’Jeff Liang’s best phone picture\n",
      "Cat fashion week and a bull runThe weekend’s best photos\n",
      "Fantasy house huntNewly renovated homes\n",
      "Most viewed Most viewed\n"
     ]
    }
   ],
   "source": [
    "import requests\n",
    "from bs4 import BeautifulSoup\n",
    "\n",
    "r = requests.get(\"http://www.theguardian.com\")\n",
    "soup = BeautifulSoup(r.text)\n",
    "\n",
    "for title in soup.find_all(\"h3\"):\n",
    "    print(title.text)"
   ]
  },
  {
   "cell_type": "markdown",
   "metadata": {},
   "source": [
    "## [tkinter](https://docs.python.org/3/library/tkinter.html) - Python interface to Tcl/Tk\n",
    "\n",
    "With `tkinter` you can create a graphical user interface (*GUI*) to extend your program. The\n",
    "[documentation](https://tkdocs.com/index.html) offers a detailed description how to start and how to use it. In the\n",
    "example below, a very basic program is shown to create a window containing a text and a button to close it."
   ]
  },
  {
   "cell_type": "code",
   "execution_count": 6,
   "metadata": {},
   "outputs": [
    {
     "name": "stdout",
     "output_type": "stream",
     "text": [
      "Button was pressed\n"
     ]
    }
   ],
   "source": [
    "from tkinter import *\n",
    " \n",
    "window = Tk()\n",
    "window.title(\"GUI created with tkinter\")\n",
    "window.geometry(\"400x300\")\n",
    "\n",
    "def function_button_1():\n",
    "    print(\"Button was pressed\")\n",
    "    \n",
    "def function_button_2():\n",
    "    window.destroy()\n",
    "\n",
    "btn_1 = Button(window, \n",
    "             text=\"This is a Button\", \n",
    "             background = \"yellow\", \n",
    "             command = function_button_1)\n",
    "btn_1.grid(column=0, row=1)\n",
    "\n",
    "btn_2 = Button(window, \n",
    "             text=\"Quit\", \n",
    "             background = \"red\", \n",
    "             command = function_button_2)\n",
    "btn_2.grid(column=1, row=1)\n",
    "             \n",
    "window.mainloop()"
   ]
  },
  {
   "cell_type": "markdown",
   "metadata": {},
   "source": [
    "## Working with large data sets\n",
    "\n",
    "### [Pandas](https://pandas.pydata.org/) - Python Data Analysis Library\n",
    "\n",
    "The Python module `pandas` can be used to process data sets, which size is only limited by the memory of your computer.\n",
    "It provides methods and functions to analyze and visualize these data sets. \n",
    "\n",
    "In the next cells, you can see some brief basic usage examples how to use `pandas`. The data used in this example\n",
    "contains angular rate and acceleration measurements from an IMU *(Intertial Measuremnt Unit)* which \n",
    "was sampled with 1 kHz (1.000 measurements per second).\n",
    "\n",
    "With `head(`*`x`*`)` and `tail(`*`x`*`)`, you can return the first/last *x* lines of your data."
   ]
  },
  {
   "cell_type": "code",
   "execution_count": 8,
   "metadata": {},
   "outputs": [
    {
     "name": "stdout",
     "output_type": "stream",
     "text": [
      "<class 'pandas.core.frame.DataFrame'>\n",
      "RangeIndex: 100000 entries, 0 to 99999\n",
      "Data columns (total 6 columns):\n",
      " #   Column           Non-Null Count   Dtype  \n",
      "---  ------           --------------   -----  \n",
      " 0   X_GYRO (32 bit)  100000 non-null  float64\n",
      " 1   Y_GYRO (32 bit)  100000 non-null  float64\n",
      " 2   Z_GYRO (32 bit)  100000 non-null  float64\n",
      " 3   X_ACCL (32 bit)  100000 non-null  float64\n",
      " 4   Y_ACCL (32 bit)  100000 non-null  float64\n",
      " 5   Z_ACCL (32 bit)  100000 non-null  float64\n",
      "dtypes: float64(6)\n",
      "memory usage: 4.6 MB\n",
      "None\n",
      "   X_GYRO (32 bit)  Y_GYRO (32 bit)  Z_GYRO (32 bit)  X_ACCL (32 bit)  \\\n",
      "0        -0.153669         0.135971         0.012654        -0.014472   \n",
      "1        -0.151507        -0.060998         0.032467        -0.012555   \n",
      "\n",
      "   Y_ACCL (32 bit)  Z_ACCL (32 bit)  \n",
      "0        -0.008335         1.000984  \n",
      "1        -0.010355         1.002156  \n"
     ]
    }
   ],
   "source": [
    "import pandas as pd\n",
    "\n",
    "dataframe = pd.read_csv(\"gyro_accel.csv\", sep=\";\")\n",
    "\n",
    "print(dataframe.info())\n",
    "\n",
    "print(dataframe.head(2))"
   ]
  },
  {
   "cell_type": "markdown",
   "metadata": {},
   "source": [
    "Or you can just select and print one specific column of your data:"
   ]
  },
  {
   "cell_type": "code",
   "execution_count": 9,
   "metadata": {},
   "outputs": [
    {
     "name": "stdout",
     "output_type": "stream",
     "text": [
      "0        1.000984\n",
      "1        1.002156\n",
      "2        1.003313\n",
      "3        1.002596\n",
      "4        1.003230\n",
      "           ...   \n",
      "99995    1.003572\n",
      "99996    1.002047\n",
      "99997    1.002171\n",
      "99998    1.002084\n",
      "99999    1.002361\n",
      "Name: Z_ACCL (32 bit), Length: 100000, dtype: float64\n"
     ]
    }
   ],
   "source": [
    "print(dataframe[\"Z_ACCL (32 bit)\"])"
   ]
  },
  {
   "cell_type": "markdown",
   "metadata": {},
   "source": [
    "You could calculate the mean value of your columns iterating through your data yourself, but with `pandas`, this takes\n",
    "just one function call:"
   ]
  },
  {
   "cell_type": "code",
   "execution_count": 10,
   "metadata": {},
   "outputs": [
    {
     "name": "stdout",
     "output_type": "stream",
     "text": [
      "X_GYRO (32 bit)   -0.158268\n",
      "Y_GYRO (32 bit)   -0.002482\n",
      "Z_GYRO (32 bit)   -0.032981\n",
      "X_ACCL (32 bit)   -0.013359\n",
      "Y_ACCL (32 bit)   -0.009486\n",
      "Z_ACCL (32 bit)    1.001941\n",
      "dtype: float64\n"
     ]
    }
   ],
   "source": [
    "mean_values = dataframe.mean()\n",
    "print(mean_values)"
   ]
  },
  {
   "cell_type": "markdown",
   "metadata": {},
   "source": [
    "## [Matplotlib](https://matplotlib.org/) - Visualization with Python\n",
    "\n",
    "With `matplotlib` you can create graphs to visualize your data. It works seamlessly with `pandas`\n",
    "and is set as a default library for plotting graphs in pandas. Have a look at the next cell to see an example visualizing\n",
    "the angular rate with a dashed line indicating the mean value."
   ]
  },
  {
   "cell_type": "code",
   "execution_count": 13,
   "metadata": {},
   "outputs": [
    {
     "data": {
      "image/png": "[encoded data removed]",
      "text/plain": [
       "<Figure size 1200x600 with 1 Axes>"
      ]
     },
     "metadata": {},
     "output_type": "display_data"
    }
   ],
   "source": [
    "import matplotlib.pyplot as plt\n",
    "\n",
    "# set plot size for good visibility\n",
    "plt.figure(figsize=(12, 6))\n",
    "\n",
    "dataframe[\"Z_GYRO (32 bit)\"].plot(color=\"blue\")\n",
    "\n",
    "# plot mean line for z_gyro values and show plot\n",
    "plt.axhline(y=mean_values[2], color=\"red\", linewidth=2, linestyle=\"--\")\n",
    "plt.show()"
   ]
  },
  {
   "cell_type": "markdown",
   "metadata": {},
   "source": [
    "Of course, it is also possible to use `matplotlib` directly. in the following cell a large number of normally \n",
    "distribute values are generated. These values are then displayed using a histogram."
   ]
  },
  {
   "cell_type": "code",
   "execution_count": 14,
   "metadata": {},
   "outputs": [
    {
     "name": "stdout",
     "output_type": "stream",
     "text": [
      "[89.35874249619452, 92.9721038832299, 110.46716042106532, 96.54572151473012, 72.39681605271349, 108.19480549198649, 102.11940106595226, 85.44040706971823, 88.35487904290073, 111.0405373430876]\n"
     ]
    },
    {
     "data": {
      "image/png": "[encoded data removed]",
      "text/plain": [
       "<Figure size 640x480 with 1 Axes>"
      ]
     },
     "metadata": {},
     "output_type": "display_data"
    }
   ],
   "source": [
    "import random\n",
    "import matplotlib.pyplot as plt\n",
    "\n",
    "random_values = []\n",
    "for _ in range(100000):\n",
    "    random_values.append(random.gauss(mu=100, sigma=20))\n",
    "\n",
    "print(random_values[:10])\n",
    "\n",
    "plt.hist(random_values, bins=500, alpha=0.5)\n",
    "plt.ylabel(\"count\")\n",
    "plt.grid(True)"
   ]
  },
  {
   "cell_type": "code",
   "execution_count": null,
   "metadata": {},
   "outputs": [],
   "source": []
  }
 ],
 "metadata": {
  "interpreter": {
   "hash": "b89b5cfaba6639976dc87ff2fec6d58faec662063367e2c229c520fe71072417"
  },
  "kernelspec": {
   "display_name": "Python 3 (ipykernel)",
   "language": "python",
   "name": "python3"
  },
  "language_info": {
   "codemirror_mode": {
    "name": "ipython",
    "version": 3
   },
   "file_extension": ".py",
   "mimetype": "text/x-python",
   "name": "python",
   "nbconvert_exporter": "python",
   "pygments_lexer": "ipython3",
   "version": "3.11.4"
  }
 },
 "nbformat": 4,
 "nbformat_minor": 2
}
