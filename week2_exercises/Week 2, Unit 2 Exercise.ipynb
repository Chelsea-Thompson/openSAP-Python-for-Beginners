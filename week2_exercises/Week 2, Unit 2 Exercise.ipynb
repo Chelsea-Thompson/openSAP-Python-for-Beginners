{
 "cells": [
  {
   "cell_type": "markdown",
   "id": "6474af5e",
   "metadata": {},
   "source": [
    "# Week 2 Unit 2: Exercise (Python_1)\n",
    "_from openSAP \"Python for Beginners_\n",
    "\n",
    "### Instructions:\n",
    "\n",
    "Below you find a code snippet to create a Python list containing the titles of all Star Wars movies. The list contains:\n",
    "\n",
    "- A list containing the titles of the prequel trilogy: The Phantom Menance, Attack of the Clones, Revenge of the Sith\n",
    "- A list containing the titles of the original trilogy: A New Hope, The Empire Strikes Back, Return of the Jedi\n",
    "- A list containing the titles of the sequel triolgy: The Force Awakens, The Last Jedi, The Rise of Skywalker\n",
    "\n",
    "_Code snippet:_\n",
    "\n",
    "star_wars_movies = [  \n",
    "    [\"The Phantom Menace\", \"Attack of the Clones\", \"Revenge of the Sith\"],  \n",
    "    [\"A New Hope\", \"The Empire Strikes Back\", \"Return of the Jedi\"],  \n",
    "    [\"The Force Awakens\", \"The Last Jedi\", \"The Rise of Skywalker\"],  \n",
    "]\n",
    "\n",
    "Write a program that asks the user for a number of the trilogy (1, 2 or 3) and the number of the film in this trilogy (1, 2 or 3). Print the title of the film corresponding to the user selection."
   ]
  },
  {
   "cell_type": "code",
   "execution_count": 1,
   "id": "7291d9de",
   "metadata": {},
   "outputs": [
    {
     "name": "stdout",
     "output_type": "stream",
     "text": [
      "Please choose a trilogy.2\n",
      "Please choose a film.1\n",
      "A New Hope\n"
     ]
    }
   ],
   "source": [
    "star_wars_movies = [\n",
    "    [\"The Phantom Menace\", \"Attack of the Clones\", \"Revenge of the Sith\"],\n",
    "    [\"A New Hope\", \"The Empire Strikes Back\", \"Return of the Jedi\"],\n",
    "    [\"The Force Awakens\", \"The Last Jedi\", \"The Rise of Skywalker\"],\n",
    "]\n",
    "\n",
    "trilogy = int(input(\"Please choose a trilogy.\")) - 1\n",
    "film = int(input(\"Please choose a film.\")) - 1\n",
    "print(star_wars_movies[trilogy][film])"
   ]
  }
 ],
 "metadata": {
  "kernelspec": {
   "display_name": "Python 3 (ipykernel)",
   "language": "python",
   "name": "python3"
  },
  "language_info": {
   "codemirror_mode": {
    "name": "ipython",
    "version": 3
   },
   "file_extension": ".py",
   "mimetype": "text/x-python",
   "name": "python",
   "nbconvert_exporter": "python",
   "pygments_lexer": "ipython3",
   "version": "3.11.4"
  }
 },
 "nbformat": 4,
 "nbformat_minor": 5
}
