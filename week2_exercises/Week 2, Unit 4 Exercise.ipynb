{
 "cells": [
  {
   "cell_type": "markdown",
   "id": "b8c327a3",
   "metadata": {},
   "source": [
    "# Weel 2 Unit 4: Exercise (Python_1)\n",
    "_from openSAP \"Python for Beginners\"_\n",
    "\n",
    "### Instructions:\n",
    "\n",
    "You are given the following list containing stock symbols, their current price as well as the absolute price change of the previous day:\n",
    "\n",
    "```stocks = [[\"SAP\", 106, -3.0], [\"AAPL\", 165, 1.25], [\"TSLA\", 860, 54.2], [\"ORCL\", 76, -0.25], [\"ZM\", 114, 6.2]]```\n",
    "\n",
    "As you plan to take some of the profits, write a program that creates a list of all the stock symbols with a change of more than +5 percent. The list should be named ```sell_list```. The list should only contain the stock symbol, not the price or the absolute change. Print the resulting list."
   ]
  },
  {
   "cell_type": "code",
   "execution_count": 5,
   "id": "5a16e864",
   "metadata": {},
   "outputs": [
    {
     "name": "stdout",
     "output_type": "stream",
     "text": [
      "['TSLA', 'ZM']\n"
     ]
    }
   ],
   "source": [
    "stocks = [\n",
    "    [\"SAP\", 106, -3.0], \n",
    "    [\"AAPL\", 165, 1.25],\n",
    "    [\"TSLA\", 860, 54.2],\n",
    "    [\"ORCL\", 76, -0.25],\n",
    "    [\"ZM\", 114, 6.2]\n",
    "]\n",
    "\n",
    "sell_list = []\n",
    "\n",
    "for symbol in stocks:\n",
    "    if symbol[2] > 5:\n",
    "        sell_list.append(symbol[0])\n",
    "print(sell_list)"
   ]
  }
 ],
 "metadata": {
  "kernelspec": {
   "display_name": "Python 3 (ipykernel)",
   "language": "python",
   "name": "python3"
  },
  "language_info": {
   "codemirror_mode": {
    "name": "ipython",
    "version": 3
   },
   "file_extension": ".py",
   "mimetype": "text/x-python",
   "name": "python",
   "nbconvert_exporter": "python",
   "pygments_lexer": "ipython3",
   "version": "3.11.4"
  }
 },
 "nbformat": 4,
 "nbformat_minor": 5
}
