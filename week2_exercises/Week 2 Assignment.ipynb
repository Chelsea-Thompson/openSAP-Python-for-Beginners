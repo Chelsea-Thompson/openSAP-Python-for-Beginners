{
 "cells": [
  {
   "cell_type": "markdown",
   "id": "9150c69e",
   "metadata": {},
   "source": [
    "# Week 2: Assignment (Python_1)\n",
    "_from openSAP \"Python for Beginners\"_\n",
    "\n",
    "### Instructions:\n",
    "\n",
    "In this exercise you are going to simulate a sales and operations planning using the zero stock level strategy. Write a Python program that asks the user to enter the following data:\n",
    "\n",
    "- An initial stock level for a product\n",
    "- The number of month(s) to plan\n",
    "- The planned sales quantity for each month\n",
    "\n",
    "Based on this data, calculate the required production quantity as follows:\n",
    "\n",
    "- If the sales quantity is smaller than the stock level of the previous month, the production quantity is 0\n",
    "- If the sales quantity is larger than the stock level of the previous month, the production quantity is this difference\n",
    "\n",
    "Below is an example execution of the program: \n",
    "\n",
    "Please enter an initial stock level: 500  \n",
    "Please enter the number of month to plan: 5  \n",
    "Please enter the planned sales quantity: 300  \n",
    "Please enter the planned sales quantity: 250  \n",
    "Please enter the planned sales quantity: 200  \n",
    "Please enter the planned sales quantity: 400  \n",
    "Please enter the planned sales quantity: 100  \n",
    "\n",
    "The resulting production quantities are:  \n",
    "Production quantity month 1 - 0  \n",
    "Production quantity month 2 - 50  \n",
    "Production quantity month 3 - 200  \n",
    "Production quantity month 4 - 400  \n",
    "Production quantity month 5 - 100\n",
    "\n",
    "Why are those production quantities calculated? The initial stock level is 500. In the first month 300 pieces are sold. Therefore, nothing needs to be produced and the resulting stock is 200 (= 500 - 300). In the second month 250 pieces are sold. The stock level after the previous month is 0. Therefore 200 pieces need to be produced. The resulting stock level is 0 (= 200 - 200). "
   ]
  },
  {
   "cell_type": "code",
   "execution_count": 5,
   "id": "80427ef2",
   "metadata": {},
   "outputs": [
    {
     "name": "stdout",
     "output_type": "stream",
     "text": [
      "Please enter an initial stock level:500\n",
      "Please enter the number of month to plan:5\n",
      "Please enter the planned sales quantity:300\n",
      "Please enter the planned sales quantity:250\n",
      "Please enter the planned sales quantity:200\n",
      "Please enter the planned sales quantity:400\n",
      "Please enter the planned sales quantity:100\n",
      "The resulting production quantities are:\n",
      "Production quantity 1 - 0\n",
      "Production quantity 2 - 50\n",
      "Production quantity 3 - 200\n",
      "Production quantity 4 - 400\n",
      "Production quantity 5 - 100\n"
     ]
    }
   ],
   "source": [
    "stock_level = int(input(\"Please enter an initial stock level:\"))\n",
    "num_month = int(input(\"Please enter the number of month to plan:\"))\n",
    "planned_sales_quant = [int(input(\"Please enter the planned sales quantity:\")) for i in range(num_month)]\n",
    "print(\"The resulting production quantities are:\")\n",
    "\n",
    "for plan in range(len(planned_sales_quant)):\n",
    "    if stock_level >= planned_sales_quant[plan]:\n",
    "        product_quant = 0\n",
    "        stock_level = stock_level - planned_sales_quant[plan]\n",
    "    else:\n",
    "        product_quant = (planned_sales_quant[plan] - stock_level)\n",
    "        stock_level = 0\n",
    "    print(\"Production quantity\", plan + 1, \"-\", product_quant)"
   ]
  },
  {
   "cell_type": "code",
   "execution_count": null,
   "id": "24280eca",
   "metadata": {},
   "outputs": [],
   "source": []
  }
 ],
 "metadata": {
  "kernelspec": {
   "display_name": "Python 3 (ipykernel)",
   "language": "python",
   "name": "python3"
  },
  "language_info": {
   "codemirror_mode": {
    "name": "ipython",
    "version": 3
   },
   "file_extension": ".py",
   "mimetype": "text/x-python",
   "name": "python",
   "nbconvert_exporter": "python",
   "pygments_lexer": "ipython3",
   "version": "3.11.4"
  }
 },
 "nbformat": 4,
 "nbformat_minor": 5
}
