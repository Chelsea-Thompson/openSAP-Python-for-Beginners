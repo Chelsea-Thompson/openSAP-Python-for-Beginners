{
 "cells": [
  {
   "cell_type": "markdown",
   "id": "e90c9493",
   "metadata": {},
   "source": [
    "# Week 2 Unit 5: Exercise (Python_1)\n",
    "_from openSAP \"Python for Beginners\"_\n",
    "\n",
    "### Instructions:\n",
    "\n",
    "Write a program that lets the user input a two-dimensional matrix (Hint: you could use a list of lists to store the matrix). The program should first ask the user how many rows and columns the matrix should contain. Next, the program should ask the user for the elements of the matrix. Your program should read the values from the user row by row. If, for example, the matrix has the dimension 2 by 3, the values should be read as follows: \n",
    "\n",
    "- First row, first value\n",
    "- First row, second value\n",
    "- First row, third value\n",
    "- Second row, first value\n",
    "- Second row, second value\n",
    "- Second row, third value\n",
    "\n",
    "Finally, the program should calculate and print the sums of the values in each row.\n",
    "\n",
    "Below is an example execution of the program:\n",
    "\n",
    "Please enter the number of rows in the matrix: 2  \n",
    "Please enter the number of columns in the matrix: 3  \n",
    "Enter the matrix values:  \n",
    "Value: 1  \n",
    "Value: 2  \n",
    "Value: 3  \n",
    "Value: 4  \n",
    "Value: 5  \n",
    "Value: 6  \n",
    "Sum of row: 6  \n",
    "Sum of row: 15"
   ]
  },
  {
   "cell_type": "code",
   "execution_count": 1,
   "id": "f0ccec9a",
   "metadata": {},
   "outputs": [
    {
     "name": "stdout",
     "output_type": "stream",
     "text": [
      "Please enter the number of rows in the matrix:2\n",
      "Please enter the number of columns in the matrix:3\n",
      "Value:1\n",
      "Value:2\n",
      "Value:3\n",
      "Value:4\n",
      "Value:5\n",
      "Value:6\n",
      "Sum of row:6\n",
      "Sum of row:15\n"
     ]
    }
   ],
   "source": [
    "row = int(input(\"Please enter the number of rows in the matrix:\"))\n",
    "column = int(input(\"Please enter the number of columns in the matrix:\"))\n",
    "\n",
    "matrix_r = []\n",
    "matrix_c = []\n",
    "\n",
    "for r in range(row):\n",
    "    for c in range(column):\n",
    "        element = int(input(\"Value:\"))\n",
    "        matrix_c.append(element)\n",
    "    matrix_r.append(matrix_c)\n",
    "    matrix_c = []\n",
    "for rows in matrix_r:\n",
    "    print(\"Sum of row:\" + str(sum(rows)))"
   ]
  },
  {
   "cell_type": "code",
   "execution_count": null,
   "id": "f389a8c0",
   "metadata": {},
   "outputs": [],
   "source": []
  }
 ],
 "metadata": {
  "kernelspec": {
   "display_name": "Python 3 (ipykernel)",
   "language": "python",
   "name": "python3"
  },
  "language_info": {
   "codemirror_mode": {
    "name": "ipython",
    "version": 3
   },
   "file_extension": ".py",
   "mimetype": "text/x-python",
   "name": "python",
   "nbconvert_exporter": "python",
   "pygments_lexer": "ipython3",
   "version": "3.11.4"
  }
 },
 "nbformat": 4,
 "nbformat_minor": 5
}
