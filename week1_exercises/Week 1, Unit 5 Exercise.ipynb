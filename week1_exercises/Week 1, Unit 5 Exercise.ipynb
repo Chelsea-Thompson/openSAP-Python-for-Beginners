{
 "cells": [
  {
   "cell_type": "markdown",
   "id": "22ed9920",
   "metadata": {},
   "source": [
    "# Week 1 Unit 5: Exercise (Python_1)\n",
    "_from openSAP \"Python for Beginners\"_\n",
    "\n",
    "### Instructions:\n",
    "Write a Python program that asks the user to enter three integer numbers. The program should output the largest of the three numbers. \n",
    "\n",
    "### Below is an example execution of the program: \n",
    "Please enter the first number: 23  \n",
    "Please enter the second number: 42  \n",
    "Please enter the third number: 11  \n",
    "\n",
    "The largest number is 42"
   ]
  },
  {
   "cell_type": "markdown",
   "id": "e21d3573",
   "metadata": {},
   "source": [
    "### Attempt 1"
   ]
  },
  {
   "cell_type": "code",
   "execution_count": 3,
   "id": "537aced0",
   "metadata": {},
   "outputs": [
    {
     "name": "stdout",
     "output_type": "stream",
     "text": [
      "Please enter a first number:6\n",
      "Please enter a second number:9\n",
      "Please enter a third number:10\n",
      "The largest number is 10\n"
     ]
    }
   ],
   "source": [
    "number1 = int(input('Please enter a first number:'))\n",
    "number2 = int(input('Please enter a second number:'))\n",
    "number3 = int(input('Please enter a third number:'))\n",
    "\n",
    "if number1 > number2 and number1 > number3:\n",
    "    print('The largest number is', number1)\n",
    "elif number2 > number1 and number2 > number3:\n",
    "    print('The largest number is', number2)\n",
    "elif number3 > number1 and number3 > number2:\n",
    "    print('The largest number is', number3)"
   ]
  },
  {
   "cell_type": "markdown",
   "id": "1f9ae698",
   "metadata": {},
   "source": [
    "### Attempt 2"
   ]
  },
  {
   "cell_type": "code",
   "execution_count": 8,
   "id": "ccba5368",
   "metadata": {},
   "outputs": [
    {
     "name": "stdout",
     "output_type": "stream",
     "text": [
      "Please enter a first number:8\n",
      "Please enter a second number:6\n",
      "Please enter a third number:12\n",
      "The largest number is 12\n"
     ]
    }
   ],
   "source": [
    "n1 = int(input('Please enter a first number:'))\n",
    "n2 = int(input('Please enter a second number:'))\n",
    "n3 = int(input('Please enter a third number:'))\n",
    "\n",
    "largest = 0\n",
    "\n",
    "if n1 > n2 and n1 > n3:\n",
    "    largest = n1\n",
    "elif n2 > n3:\n",
    "    largest = n2\n",
    "else:\n",
    "    largest = n3\n",
    "    \n",
    "print('The largest number is', largest)"
   ]
  }
 ],
 "metadata": {
  "kernelspec": {
   "display_name": "Python 3 (ipykernel)",
   "language": "python",
   "name": "python3"
  },
  "language_info": {
   "codemirror_mode": {
    "name": "ipython",
    "version": 3
   },
   "file_extension": ".py",
   "mimetype": "text/x-python",
   "name": "python",
   "nbconvert_exporter": "python",
   "pygments_lexer": "ipython3",
   "version": "3.11.4"
  }
 },
 "nbformat": 4,
 "nbformat_minor": 5
}
