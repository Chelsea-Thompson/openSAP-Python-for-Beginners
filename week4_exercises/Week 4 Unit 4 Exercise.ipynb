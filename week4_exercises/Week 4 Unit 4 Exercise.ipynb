{
 "cells": [
  {
   "cell_type": "markdown",
   "id": "1372a447",
   "metadata": {},
   "source": [
    "# Week 4, Unit 4: Exercise (Python_1)\n",
    "_from openSAP \"Python for Beginners\"_\n",
    "\n",
    "### Instructions: \n",
    "The file numbers.txt contains numbers. (Actually, the same numbers from the last exercise.) There is exactly one number per line. Read the numbers from the file and write only the even numbers into the new file named even_numbers.txt. Again, there should be one number per line. The order of the numbers shall be unchanged. To indicate that the program is finished, print the following output: \"List of even numbers created!\"\n",
    "\n",
    "### Hint:\n",
    "First read all the numbers as explained in the last exercise and put them into a list. Open the new file for writing. Go through the list and check if a number is even. If this is the case, changed the integer into a string and do not forget to add a line break. Write this string into the file. Finally implement the print statement. "
   ]
  },
  {
   "cell_type": "code",
   "execution_count": 1,
   "id": "a00081cb",
   "metadata": {},
   "outputs": [
    {
     "name": "stdout",
     "output_type": "stream",
     "text": [
      "List of even numbers created!\n"
     ]
    }
   ],
   "source": [
    "numbers_list = [] \n",
    "\n",
    "with open(\"numbers.txt\", \"r\") as file:\n",
    "    for line in file:\n",
    "        line = line.strip()\n",
    "        number = int(line)\n",
    "        numbers_list.append(number)\n",
    "        \n",
    "with open(\"even_numbers.txt\", \"w\") as new_file:\n",
    "    for num in numbers_list:\n",
    "        if num % 2 == 0:\n",
    "            new_file.write(str(num) + \"\\n\")\n",
    "            \n",
    "print(\"List of even numbers created!\")"
   ]
  },
  {
   "cell_type": "code",
   "execution_count": null,
   "id": "f0307d09",
   "metadata": {},
   "outputs": [],
   "source": []
  }
 ],
 "metadata": {
  "kernelspec": {
   "display_name": "Python 3 (ipykernel)",
   "language": "python",
   "name": "python3"
  },
  "language_info": {
   "codemirror_mode": {
    "name": "ipython",
    "version": 3
   },
   "file_extension": ".py",
   "mimetype": "text/x-python",
   "name": "python",
   "nbconvert_exporter": "python",
   "pygments_lexer": "ipython3",
   "version": "3.11.4"
  }
 },
 "nbformat": 4,
 "nbformat_minor": 5
}
