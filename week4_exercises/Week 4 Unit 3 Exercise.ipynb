{
 "cells": [
  {
   "cell_type": "markdown",
   "id": "cc713cc9",
   "metadata": {},
   "source": [
    "# Week 4, Unit 3: Exercise (Python_1)\n",
    "_from openSAP \"Python for Beginners\"_\n",
    "\n",
    "### Instructions:\n",
    "The file numbers.txt contains random integer numbers. There is exactly one number per line. Read the file and output the three biggest numbers in the following form: \n",
    "\n",
    "2345  \n",
    "223  \n",
    "89  \n",
    "\n",
    "### Hint: \n",
    "Read the file line by line, delete the line break. As files can only contain strings, the number must now be converted into an integer. Add the number into a list. When all numbers are in the list, sort the list. Then print out the biggest numbers. "
   ]
  },
  {
   "cell_type": "code",
   "execution_count": 1,
   "id": "1ea7652d",
   "metadata": {},
   "outputs": [
    {
     "name": "stdout",
     "output_type": "stream",
     "text": [
      "9853\n",
      "9760\n",
      "9745\n"
     ]
    }
   ],
   "source": [
    "numbers_list = [] \n",
    "\n",
    "with open(\"numbers.txt\", \"r\") as file:\n",
    "    for line in file:\n",
    "        line = line.strip()\n",
    "        number = int(line)\n",
    "        numbers_list.append(number)\n",
    "        \n",
    "numbers_list.sort()\n",
    "\n",
    "print(numbers_list[-1])\n",
    "print(numbers_list[-2])\n",
    "print(numbers_list[-3])"
   ]
  },
  {
   "cell_type": "code",
   "execution_count": null,
   "id": "78b23164",
   "metadata": {},
   "outputs": [],
   "source": []
  }
 ],
 "metadata": {
  "kernelspec": {
   "display_name": "Python 3 (ipykernel)",
   "language": "python",
   "name": "python3"
  },
  "language_info": {
   "codemirror_mode": {
    "name": "ipython",
    "version": 3
   },
   "file_extension": ".py",
   "mimetype": "text/x-python",
   "name": "python",
   "nbconvert_exporter": "python",
   "pygments_lexer": "ipython3",
   "version": "3.11.4"
  }
 },
 "nbformat": 4,
 "nbformat_minor": 5
}
