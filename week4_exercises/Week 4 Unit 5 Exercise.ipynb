{
 "cells": [
  {
   "cell_type": "markdown",
   "id": "e949d2b4",
   "metadata": {},
   "source": [
    "# Week 4, Unit 5: Exercise (Python_1)\n",
    "_from openSAP \"Python for Beginners\"_\n",
    "\n",
    "### Instructions:\n",
    "The file _invoice_data.txt_ contains raw data for an invoice. More precisely, each line contains\n",
    "- the name of an item\n",
    "- how many items are bought \n",
    "- the unit price of the item\n",
    "\n",
    "The three values are separated by a single whitespace. Prepare a beautified output of the file which contains\n",
    "- the name of the item formatted with 15 characters\n",
    "- the number of units with 3 digits\n",
    "- the price per item with 7 digits, 2 digits after the decimal point\n",
    "- the total price (_number of items * price per item_) with 8 digits in total, 2 digits after the decimal point\n",
    "\n",
    "If there are two lines with the following content \"Apple 5 0.99\" and \"Cherry 2 11.99\", then the beautified output should look as follows:  \n",
    "Apple           15   0.99   14.85\n",
    "Cherry           2  11.99   23.98\n",
    "\n",
    "### Hint: \n",
    "\n",
    "Read the file line by line and create a list of tuples. Each tuple contains the item (string), the number of items (integer) the price per item (float). To identify the individual parts per line, use the method .split(). Prepare an f-string to output the data as specified. "
   ]
  },
  {
   "cell_type": "code",
   "execution_count": 2,
   "id": "8ff9ce57",
   "metadata": {},
   "outputs": [
    {
     "name": "stdout",
     "output_type": "stream",
     "text": [
      "Chair            3  29.99   89.97\n",
      "Table            1 299.00  299.00\n",
      "Sideboard        2 349.00  698.00\n",
      "Shelf           40  90.00 3600.00\n"
     ]
    }
   ],
   "source": [
    "with open(\"invoice_data.txt\", \"r\") as file:\n",
    "    list_tup = [line.split() for line in file]\n",
    "for product in list_tup:\n",
    "    print(\n",
    "        f\"{product[0]:15s}{int(product[1]):3d}{float(product[2]):7.2f}{float(product[1])*float(product[2]):8.2f}\"\n",
    "    )"
   ]
  },
  {
   "cell_type": "code",
   "execution_count": null,
   "id": "ecc1072e",
   "metadata": {},
   "outputs": [],
   "source": []
  }
 ],
 "metadata": {
  "kernelspec": {
   "display_name": "Python 3 (ipykernel)",
   "language": "python",
   "name": "python3"
  },
  "language_info": {
   "codemirror_mode": {
    "name": "ipython",
    "version": 3
   },
   "file_extension": ".py",
   "mimetype": "text/x-python",
   "name": "python",
   "nbconvert_exporter": "python",
   "pygments_lexer": "ipython3",
   "version": "3.11.4"
  }
 },
 "nbformat": 4,
 "nbformat_minor": 5
}
