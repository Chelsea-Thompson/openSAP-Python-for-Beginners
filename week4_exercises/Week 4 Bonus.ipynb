{
 "cells": [
  {
   "cell_type": "markdown",
   "id": "3ddb0158",
   "metadata": {},
   "source": [
    "# Week 4: Bonus (Python_1)\n",
    "_from openSAP \"Python for Beginners\"_\n",
    "\n",
    "### Instructions:\n",
    "You probably know the game \"Rock, Paper, Scissors\". A game for two players. Each player has three options, namely rock, paper, scissors, which are formed by the player's hand. The rules are quite easy: - rock beats scissors - scissors beats paper - paper beats rock.  \n",
    "\n",
    "If both players have chosen the same object, it's a draw.  \n",
    "\n",
    "In the following, we play 100 consecutive games. Each player has to hand in a file consisting of one letter per line. The letters are either \"R\", \"P\" or \"S\".  \n",
    "\n",
    "Write a Python program that reads two files player1.txt and player2.txt. These files are organized according to the above rules. The program should compare both inputs and calculate how many games have been won by player1, by player2 and how many games ended in a draw. The results are written into a file result.txt which looks as follows:  \n",
    "\n",
    "Player1 wins: 23  \n",
    "Player2 wins: 48  \n",
    "Draws: 29\n",
    "\n",
    "The sum should always be 100.  "
   ]
  },
  {
   "cell_type": "code",
   "execution_count": null,
   "id": "403983d2",
   "metadata": {},
   "outputs": [],
   "source": []
  }
 ],
 "metadata": {
  "kernelspec": {
   "display_name": "Python 3 (ipykernel)",
   "language": "python",
   "name": "python3"
  },
  "language_info": {
   "codemirror_mode": {
    "name": "ipython",
    "version": 3
   },
   "file_extension": ".py",
   "mimetype": "text/x-python",
   "name": "python",
   "nbconvert_exporter": "python",
   "pygments_lexer": "ipython3",
   "version": "3.11.4"
  }
 },
 "nbformat": 4,
 "nbformat_minor": 5
}
