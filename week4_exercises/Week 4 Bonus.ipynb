{
 "cells": [
  {
   "cell_type": "markdown",
   "id": "3ddb0158",
   "metadata": {},
   "source": [
    "# Week 4: Bonus (Python_1)\n",
    "_from openSAP \"Python for Beginners\"_\n",
    "\n",
    "### Instructions:\n",
    "You probably know the game \"Rock, Paper, Scissors\". A game for two players. Each player has three options, namely rock, paper, scissors, which are formed by the player's hand. The rules are quite easy: - rock beats scissors - scissors beats paper - paper beats rock.  \n",
    "\n",
    "If both players have chosen the same object, it's a draw.  \n",
    "\n",
    "In the following, we play 100 consecutive games. Each player has to hand in a file consisting of one letter per line. The letters are either \"R\", \"P\" or \"S\".  \n",
    "\n",
    "Write a Python program that reads two files player1.txt and player2.txt. These files are organized according to the above rules. The program should compare both inputs and calculate how many games have been won by player1, by player2 and how many games ended in a draw. The results are written into a file result.txt which looks as follows:  \n",
    "\n",
    "Player1 wins: 23  \n",
    "Player2 wins: 48  \n",
    "Draws: 29\n",
    "\n",
    "The sum should always be 100.  "
   ]
  },
  {
   "cell_type": "code",
   "execution_count": 3,
   "id": "403983d2",
   "metadata": {},
   "outputs": [],
   "source": [
    "p1_wins = 0\n",
    "p2_wins = 0\n",
    "draws = 0\n",
    "\n",
    "with open(\"player1.txt\", \"r\") as p1_file:\n",
    "    p1_list = [line.strip() for line in p1_file]\n",
    "with open(\"player2.txt\", \"r\") as p2_file:\n",
    "    p2_list = [line.strip() for line in p2_file]\n",
    "\n",
    "for games in range(len(p1_list)):\n",
    "    if p1_list[games] == p2_list[games]:\n",
    "        draws += 1\n",
    "    elif p1_list[games] == \"R\":\n",
    "        if p2_list[games] == \"S\":\n",
    "            p1_wins += 1\n",
    "        else: \n",
    "            p2_wins += 1 \n",
    "    elif p1_list[games] == \"P\":\n",
    "        if p2_list[games] == \"R\":\n",
    "            p1_wins += 1 \n",
    "        else: \n",
    "            p2_wins += 1 \n",
    "    elif p1_list[games] == \"S\":\n",
    "        if p2_list[games] == \"P\":\n",
    "            p1_wins += 1\n",
    "        else:\n",
    "            p2_wins += 1 \n",
    "            \n",
    "with open(\"result.txt\", \"w\") as r_file:\n",
    "    r_file.write(f\"Player1 wins: {p1_wins}\\nPlayer2 wins: {p2_wins}\\nDraws: {draws}\\n\")"
   ]
  },
  {
   "cell_type": "code",
   "execution_count": null,
   "id": "b8ed09fe",
   "metadata": {},
   "outputs": [],
   "source": []
  }
 ],
 "metadata": {
  "kernelspec": {
   "display_name": "Python 3 (ipykernel)",
   "language": "python",
   "name": "python3"
  },
  "language_info": {
   "codemirror_mode": {
    "name": "ipython",
    "version": 3
   },
   "file_extension": ".py",
   "mimetype": "text/x-python",
   "name": "python",
   "nbconvert_exporter": "python",
   "pygments_lexer": "ipython3",
   "version": "3.11.4"
  }
 },
 "nbformat": 4,
 "nbformat_minor": 5
}
