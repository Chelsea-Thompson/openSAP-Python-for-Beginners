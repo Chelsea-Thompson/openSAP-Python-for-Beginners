{
 "cells": [
  {
   "cell_type": "markdown",
   "id": "9b3b2ecd",
   "metadata": {},
   "source": [
    "# Week 4: Assignment (Python_1)\n",
    "_from openSAP \"Python for Beginners\"_\n",
    "\n",
    "### Instructions: \n",
    "There is a file secret.txt, which contains one character per line. There is a second file key.txt, which contains two lines with one number per line (the number could have several digits). The first number col represents the number of columns of a grid, the second number row represents the number of rows of the grid.  \n",
    "\n",
    "The characters of the first file should now be filled into this grid. Take the characters one by one and fill them into a string until the string contains col characters. Append the string to a list. Then create a new string the same way. Continue, until the number of strings is equal to row. Now, write all the strings into a file public.txt. Open the file and check the content. \n",
    "\n",
    "### Example: \n",
    "If the file secret.txt contains the following input:  \n",
    "**#**  \n",
    "**#**  \n",
    "**#**  \n",
    ".  \n",
    "**#**  \n",
    ".  \n",
    ".  \n",
    "**#**  \n",
    ".  \n",
    ".  \n",
    "**#**  \n",
    ".  \n",
    "\n",
    "and the file key.txt contains the following numbers:  \n",
    "3  \n",
    "4  \n",
    "\n",
    "then the content in the file public.txt should be as follows:  \n",
    "**###**  \n",
    ".**#**.  \n",
    ".**#**.  \n",
    ".**#**.  "
   ]
  },
  {
   "cell_type": "code",
   "execution_count": 1,
   "id": "f8838921",
   "metadata": {},
   "outputs": [],
   "source": [
    "with open('secret.txt', 'r') as secret_file:\n",
    "    symbols = [line.strip() for line in secret_file.readlines()]\n",
    "\n",
    "with open('key.txt', 'r') as key_file:\n",
    "    col = int(key_file.readline().strip())\n",
    "    row = int(key_file.readline().strip())\n",
    "\n",
    "grid = []\n",
    "i = 0\n",
    "for x in range(row):\n",
    "    row_chars = []\n",
    "    for y in range(col):\n",
    "        if i < len(symbols):\n",
    "            row_chars.append(symbols[i])\n",
    "            i += 1\n",
    "        else:\n",
    "            row_chars.append(' ')\n",
    "    grid.append(''.join(row_chars))\n",
    "\n",
    "with open('public.txt', 'w') as public_file:\n",
    "    for row in grid:\n",
    "        public_file.write(row + '\\n')"
   ]
  }
 ],
 "metadata": {
  "kernelspec": {
   "display_name": "Python 3 (ipykernel)",
   "language": "python",
   "name": "python3"
  },
  "language_info": {
   "codemirror_mode": {
    "name": "ipython",
    "version": 3
   },
   "file_extension": ".py",
   "mimetype": "text/x-python",
   "name": "python",
   "nbconvert_exporter": "python",
   "pygments_lexer": "ipython3",
   "version": "3.11.4"
  }
 },
 "nbformat": 4,
 "nbformat_minor": 5
}
