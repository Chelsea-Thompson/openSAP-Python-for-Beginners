{
 "cells": [
  {
   "cell_type": "markdown",
   "id": "4066bfca",
   "metadata": {},
   "source": [
    "# Week 6: Bonus (Python_1)\n",
    "_from openSAP \"Python for Beginners\"_\n",
    "\n",
    "### Compute π using a random number generator\n",
    "The number π (Pi) can be calculated using random numbers. Suppose you have a circle with radius 1 which is inscribed in a square with a side length of 2. Then the square has an area of 4 (2 * 2) and the circle has an area of π (r = 1, thus π * r² = π).\n",
    "\n",
    "If thousands of points are randomly created within the square, then some points are inside the square and inside the circle, others are inside the square and not inside the circle. The situation can be simplified if you just consider the upper right quadrant of a circle. This square has a side length of 1. Each point within the square can be described by the coordinates x and y where (0 < x, y < 1). If x² + y² < 1, then a point specified by (x, y) lies within the circle.\n",
    "\n",
    "As the relation between the sizes of circle and square is π/4, the relation between the points in the circle and the points in the square must be π/4 as well. Using this formula, one can now use a random number generator to calculate π.\n",
    "\n",
    "### Your Task\n",
    "Using the library random create 10,000 random points inside the square. That means generate 10,000 random pairs of values for x and y. The random value must be between 0 and 1 in order for a point to be inside the square. For each point check if x² + y² is < 1. If this is the case, then the point is within the circle. Count the total number of points and the points which are in the circle. Use these numbers to calculate π. Finally compare your calculated value of π with the value of π found in the math library. Do this by printing the calculated value of π, the value from the math library as well as the difference.\n",
    "\n",
    "Below is an example execution of the program. Note that your values might be different."
   ]
  },
  {
   "cell_type": "raw",
   "id": "5c3bd618",
   "metadata": {},
   "source": [
    "Calculated value of π: 3.1396\n",
    "Value of π from math library: 3.141592653589793\n",
    "Difference: -0.0019926535897929476"
   ]
  },
  {
   "cell_type": "markdown",
   "id": "8838ba09",
   "metadata": {},
   "source": [
    "#### Additional Challenge\n",
    "Can you solve the bonus exercise without a for loop using list comprehension?"
   ]
  },
  {
   "cell_type": "code",
   "execution_count": 1,
   "id": "f4991472",
   "metadata": {},
   "outputs": [
    {
     "name": "stdout",
     "output_type": "stream",
     "text": [
      "Calculated value of π: 3.144\n",
      "Value of π from math library: 3.141592653589793\n",
      "Difference: -0.002407346410207012\n"
     ]
    }
   ],
   "source": [
    "import random\n",
    "import math\n",
    "\n",
    "random_points = [(random.random(), random.random()) for _ in range(10000)]\n",
    "count = sum(1 for x, y in random_points if x**2 + y**2 < 1)\n",
    "calc_p = 4 * count / len(random_points)\n",
    "\n",
    "print(\"Calculated value of π:\", calc_p)\n",
    "print(\"Value of π from math library:\", math.pi)\n",
    "print(\"Difference:\", math.pi - calc_p)"
   ]
  },
  {
   "cell_type": "code",
   "execution_count": null,
   "id": "415fc863",
   "metadata": {},
   "outputs": [],
   "source": []
  }
 ],
 "metadata": {
  "kernelspec": {
   "display_name": "Python 3 (ipykernel)",
   "language": "python",
   "name": "python3"
  },
  "language_info": {
   "codemirror_mode": {
    "name": "ipython",
    "version": 3
   },
   "file_extension": ".py",
   "mimetype": "text/x-python",
   "name": "python",
   "nbconvert_exporter": "python",
   "pygments_lexer": "ipython3",
   "version": "3.11.4"
  }
 },
 "nbformat": 4,
 "nbformat_minor": 5
}
