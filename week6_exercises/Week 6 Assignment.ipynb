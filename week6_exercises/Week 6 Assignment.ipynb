{
 "cells": [
  {
   "cell_type": "markdown",
   "id": "af4ba36e",
   "metadata": {},
   "source": [
    "# Week 6: Assignment (Python_1)\n",
    "_from openSAP \"Python for Beginners\"_\n",
    "\n",
    "In this assignment you are going to build a Python program to access the Apple iTunes Search Service. This service can be used to search information about musicians, albums, songs and so on. \n",
    "\n",
    "Using the following URL, a search for the term _ramones_ and for the entity type _album_ is performed: https://itunes.apple.com/search?term=ramones&entity=album\n",
    "\n",
    "Other possible entity types are musicArtist, musicTrack or song. Below is an (abbreviated) example result of the service:"
   ]
  },
  {
   "cell_type": "raw",
   "id": "80ad1cf2",
   "metadata": {},
   "source": [
    "{\n",
    "\"resultCount\": 1,\n",
    "\"results\": [\n",
    "    {\n",
    "    \"wrapperType\": \"collection\",\n",
    "    \"collectionType\": \"Album\",\n",
    "    \"artistId\": 60715,\n",
    "    \"amgArtistId\": 5223,\n",
    "    \"artistName\": \"Ramones\",\n",
    "    \"collectionName\": \"Ramones\",\n",
    "    \"collectionPrice\": 9.99,\n",
    "    \"collectionExplicitness\": \"notExplicit\",\n",
    "    \"trackCount\": 14, \n",
    "    \"copyright\": \"℗ 1976 Sire Records. Marketed by Rhino Entertainment Company, a Warner Music Group Company.\",\n",
    "    \"country\": \"USA\",\n",
    "    \"currency\": \"USD\",\n",
    "    \"releaseDate\": \"1976-04-23T08:00:00Z\",\n",
    "    \"primaryGenreName\": \"Punk\"\n",
    "    }\n",
    "]\n",
    "}"
   ]
  },
  {
   "cell_type": "markdown",
   "id": "82909665",
   "metadata": {},
   "source": [
    "The response in the example above consists of one result (resultCount is 1). This result is the album \"Ramones\" (element collectionName) by the artist \"Ramones\" (element artistName). The response is in JSON format.\n",
    "\n",
    "The Requests library can be used to invoke Apple iTunes Search Service. In order to perform a search, a GET request needs to be performed. This is done using the get() function of the Requests library. After that, the method json() of the Requests library can be used to map the response from JSON to the Python 🐍 data types dict and list. \n",
    "\n",
    "### Assignment: \n",
    "Write a program that asks the user for a search term. Perform a search using the iTunes search service for the entity type album. The program should then print how many search results were returned. For each result print the artist name, the album name and track count. \n",
    "\n",
    "Below is an example execution of the program. Note that the output is abbreviated. "
   ]
  },
  {
   "cell_type": "raw",
   "id": "b3b2d071",
   "metadata": {},
   "source": [
    "Please enter a search term: cash\n",
    "The search returned 50 results.\n",
    "Artist: Luke Bryan - Album: Crash My Party - Track Count: 13\n",
    "Artist: Johnny Cash - Album: The Essential Johnny Cash - Track Count: 36\n",
    "Artist: Dave Matthews Band - Album: Crash - Track Count: 12"
   ]
  },
  {
   "cell_type": "code",
   "execution_count": 3,
   "id": "2608b3e5",
   "metadata": {},
   "outputs": [
    {
     "name": "stdout",
     "output_type": "stream",
     "text": [
      "Please enter a search term: cash\n",
      "The search returned 20 results.\n",
      "Artist: Johnny Cash - Album: The Essential Johnny Cash - Track Count: 36\n",
      "Artist: Dave Matthews Band - Album: Crash - Track Count: 12\n",
      "Artist: Luke Bryan - Album: Crash My Party - Track Count: 13\n",
      "Artist: Mew - Album: No More Stories Are Told Today I'm Sorry They Washed Away No More Stories the World Is Grey I'm Tired Let's Wash Away (Bonus Track Version) - Track Count: 17\n",
      "Artist: ScHoolboy Q - Album: CrasH Talk - Track Count: 15\n",
      "Artist: Straight Line Stitch - Album: When Skies Wash Ashore - Track Count: 10\n",
      "Artist: Rosanne Cash - Album: The Essential Rosanne Cash - Track Count: 36\n",
      "Artist: J Boog - Album: Wash House Ting - Track Count: 14\n",
      "Artist: Eric Lindell - Album: Low On Cash, Rich In Love - Track Count: 12\n",
      "Artist: Karmin - Album: Crash Your Party - Single - Track Count: 1\n",
      "Artist: Johnny Cash - Album: At Folsom Prison (Live) - Track Count: 16\n",
      "Artist: Crash Test Dummies - Album: God Shuffled His Feet - Track Count: 12\n",
      "Artist: Waylon Jennings, Willie Nelson, Johnny Cash & Kris Kristofferson - Album: Highwayman - Track Count: 10\n",
      "Artist: Rose Royce - Album: Car Wash (Soundtrack from the Motion Picture) - Track Count: 19\n",
      "Artist: Rosanne Cash - Album: The Very  Best Of Rosanne Cash - Track Count: 16\n",
      "Artist: Elvis Presley, Carl Perkins, Jerry Lee Lewis & Johnny Cash - Album: The Complete Million Dollar Quartet - Track Count: 47\n",
      "Artist: Johnny Cash - Album: The Legend - Track Count: 104\n",
      "Artist: Charli XCX - Album: CRASH - Track Count: 12\n",
      "Artist: B.G. - Album: Life After Cash Money - Track Count: 18\n",
      "Artist: Johnny Cash - Album: American IV: The Man Comes Around - Track Count: 15\n"
     ]
    }
   ],
   "source": [
    "import requests\n",
    "\n",
    "search_term = input(\"Please enter a search term: \")\n",
    "url = f\"https://itunes.apple.com/search?term={search_term}&entity=album\"\n",
    "response = requests.get(url).json()\n",
    "\n",
    "result_count = response.get(\"resultCount\")\n",
    "print(f\"The search returned {result_count} results.\")\n",
    "\n",
    "results = response.get(\"results\")\n",
    "for i in range(result_count):\n",
    "    artist_name = results[i].get(\"artistName\")\n",
    "    album_name = results[i].get(\"collectionName\")\n",
    "    track_count = results[i].get(\"trackCount\")\n",
    "    \n",
    "    print(f\"Artist: {artist_name} - Album: {album_name} - Track Count: {track_count}\")"
   ]
  },
  {
   "cell_type": "code",
   "execution_count": null,
   "id": "9bffd6e4",
   "metadata": {},
   "outputs": [],
   "source": []
  }
 ],
 "metadata": {
  "kernelspec": {
   "display_name": "Python 3 (ipykernel)",
   "language": "python",
   "name": "python3"
  },
  "language_info": {
   "codemirror_mode": {
    "name": "ipython",
    "version": 3
   },
   "file_extension": ".py",
   "mimetype": "text/x-python",
   "name": "python",
   "nbconvert_exporter": "python",
   "pygments_lexer": "ipython3",
   "version": "3.11.4"
  }
 },
 "nbformat": 4,
 "nbformat_minor": 5
}
