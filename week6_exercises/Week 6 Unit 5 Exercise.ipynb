{
 "cells": [
  {
   "cell_type": "markdown",
   "id": "4eb5adaf",
   "metadata": {},
   "source": [
    "# Week 6, Unit 5: Exercise (Python_1)\n",
    "_from openSAP \"Python for Beginners\"_\n",
    "\n",
    "### Instructions: \n",
    "The non-standard library py-sudoku offers the possibility to create your own sudokus. Install the library and create a new sudoku with a difficulty of 0.7. Display the sudoku and the solution of the sudoku. "
   ]
  },
  {
   "cell_type": "code",
   "execution_count": 3,
   "id": "5563d340",
   "metadata": {},
   "outputs": [
    {
     "name": "stdout",
     "output_type": "stream",
     "text": [
      "\n",
      "---------------------------\n",
      "9x9 (3x3) SUDOKU PUZZLE\n",
      "Difficulty: 0.70\n",
      "---------------------------\n",
      "+-------+-------+-------+\n",
      "|     8 |       |   5   |\n",
      "|   3   |       | 1 2   |\n",
      "|       | 1 5   |     8 |\n",
      "+-------+-------+-------+\n",
      "|   5   | 8   9 | 7 6   |\n",
      "|   8   | 3     |   9   |\n",
      "|     6 |       |       |\n",
      "+-------+-------+-------+\n",
      "|   1   |     8 |     2 |\n",
      "| 8     | 4     | 5   7 |\n",
      "|       |       | 6     |\n",
      "+-------+-------+-------+\n",
      "\n",
      "        \n",
      "+-------+-------+-------+\n",
      "| 1 4 8 | 2 6 7 | 3 5 9 |\n",
      "| 5 3 7 | 9 8 4 | 1 2 6 |\n",
      "| 6 9 2 | 1 5 3 | 4 7 8 |\n",
      "+-------+-------+-------+\n",
      "| 3 5 4 | 8 2 9 | 7 6 1 |\n",
      "| 7 8 1 | 3 4 6 | 2 9 5 |\n",
      "| 9 2 6 | 7 1 5 | 8 4 3 |\n",
      "+-------+-------+-------+\n",
      "| 4 1 5 | 6 7 8 | 9 3 2 |\n",
      "| 8 6 3 | 4 9 2 | 5 1 7 |\n",
      "| 2 7 9 | 5 3 1 | 6 8 4 |\n",
      "+-------+-------+-------+\n",
      "\n"
     ]
    }
   ],
   "source": [
    "from sudoku import Sudoku\n",
    "\n",
    "puzzle = Sudoku(3).difficulty(0.7)\n",
    "print(puzzle)\n",
    "\n",
    "solution = puzzle.solve()\n",
    "solution.show()"
   ]
  },
  {
   "cell_type": "code",
   "execution_count": 5,
   "id": "ff517ffd",
   "metadata": {},
   "outputs": [
    {
     "name": "stdout",
     "output_type": "stream",
     "text": [
      "+-------+-------+-------+\n",
      "|     8 |       |   5   |\n",
      "|   3   |       | 1 2   |\n",
      "|       | 1 5   |     8 |\n",
      "+-------+-------+-------+\n",
      "|   5   | 8   9 | 7 6   |\n",
      "|   8   | 3     |   9   |\n",
      "|     6 |       |       |\n",
      "+-------+-------+-------+\n",
      "|   1   |     8 |     2 |\n",
      "| 8     | 4     | 5   7 |\n",
      "|       |       | 6     |\n",
      "+-------+-------+-------+\n",
      "\n",
      "+-------+-------+-------+\n",
      "| 1 4 8 | 2 6 7 | 3 5 9 |\n",
      "| 5 3 7 | 9 8 4 | 1 2 6 |\n",
      "| 6 9 2 | 1 5 3 | 4 7 8 |\n",
      "+-------+-------+-------+\n",
      "| 3 5 4 | 8 2 9 | 7 6 1 |\n",
      "| 7 8 1 | 3 4 6 | 2 9 5 |\n",
      "| 9 2 6 | 7 1 5 | 8 4 3 |\n",
      "+-------+-------+-------+\n",
      "| 4 1 5 | 6 7 8 | 9 3 2 |\n",
      "| 8 6 3 | 4 9 2 | 5 1 7 |\n",
      "| 2 7 9 | 5 3 1 | 6 8 4 |\n",
      "+-------+-------+-------+\n",
      "\n"
     ]
    }
   ],
   "source": [
    "from sudoku import Sudoku\n",
    "\n",
    "puzzle = Sudoku(3).difficulty(0.7)\n",
    "puzzle.show()\n",
    "\n",
    "solution = puzzle.solve()\n",
    "solution.show()"
   ]
  },
  {
   "cell_type": "code",
   "execution_count": null,
   "id": "999d7e79",
   "metadata": {},
   "outputs": [],
   "source": []
  }
 ],
 "metadata": {
  "kernelspec": {
   "display_name": "Python 3 (ipykernel)",
   "language": "python",
   "name": "python3"
  },
  "language_info": {
   "codemirror_mode": {
    "name": "ipython",
    "version": 3
   },
   "file_extension": ".py",
   "mimetype": "text/x-python",
   "name": "python",
   "nbconvert_exporter": "python",
   "pygments_lexer": "ipython3",
   "version": "3.11.4"
  }
 },
 "nbformat": 4,
 "nbformat_minor": 5
}
