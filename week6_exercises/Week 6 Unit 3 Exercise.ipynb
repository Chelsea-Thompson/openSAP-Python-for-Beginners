{
 "cells": [
  {
   "cell_type": "markdown",
   "id": "9116a96a",
   "metadata": {},
   "source": [
    "# Week 6, Unit 3: Exercise (Python_1)\n",
    "_from openSAP \"Python for Beginners\"_\n",
    "\n",
    "### Instructions:\n",
    "Import the random library and have a look at the function gauss() which gives back a random float number. Which parameters are required? Write a function gaussian_distribution() that returns a list of 1000 random numbers with a mean of 100 and a standard deviation of 10. Invoke this function. \n",
    "\n",
    "For the resulting list calculate and print the mean and the standard deviation using the respective functions from the statistics library. Re-run the program and observe the values change. \n",
    "\n",
    "Below is the output of an example execution of the program. Note that the values of the standard deviation and the mean might be different in your case. \n",
    "\n",
    "Mean: 100.15215154056546  \n",
    "Standard Deviation: 9.93532937167394"
   ]
  },
  {
   "cell_type": "code",
   "execution_count": 7,
   "id": "ae171875",
   "metadata": {},
   "outputs": [
    {
     "name": "stdout",
     "output_type": "stream",
     "text": [
      "Mean: 99.97272821693737\n",
      "Standard Deviation: 10.109333796427642\n"
     ]
    }
   ],
   "source": [
    "import random as r \n",
    "import statistics as s\n",
    "\n",
    "def gaussian_distribution():\n",
    "    random_list = [r.gauss(100, 10) for i in range(1000)]\n",
    "    return random_list\n",
    "\n",
    "print(\"Mean:\", s.mean(gaussian_distribution()))\n",
    "print(\"Standard Deviation:\", s.stdev(gaussian_distribution()))"
   ]
  },
  {
   "cell_type": "code",
   "execution_count": null,
   "id": "552b3785",
   "metadata": {},
   "outputs": [],
   "source": []
  }
 ],
 "metadata": {
  "kernelspec": {
   "display_name": "Python 3 (ipykernel)",
   "language": "python",
   "name": "python3"
  },
  "language_info": {
   "codemirror_mode": {
    "name": "ipython",
    "version": 3
   },
   "file_extension": ".py",
   "mimetype": "text/x-python",
   "name": "python",
   "nbconvert_exporter": "python",
   "pygments_lexer": "ipython3",
   "version": "3.11.4"
  }
 },
 "nbformat": 4,
 "nbformat_minor": 5
}
