{
 "cells": [
  {
   "attachments": {},
   "cell_type": "markdown",
   "id": "b7f26c89",
   "metadata": {},
   "source": [
    "# Week 1: Bonus (Python_1)\n",
    "\n",
    "A quadratic equation is an equation that can be written as: \n",
    "<div>\n",
    "<img src=\"attachment:image.PNG\" width=\"200\"/>\n",
    "</div>\n",
    "\n",
    "In this equation x represents an unknown number, and a, b, and c are representing known numbers. Possible solutions for a given quadratic equation can be calculated by the formula:\n",
    "<div>\n",
    "<img src=\"attachment:image-2.PNG\" width=\"200\"/>\n",
    "</div>\n",
    "\n",
    "The expression:\n",
    "<div> \n",
    "<img src=\"attachment:image-3.PNG\" width=\"100\"/> \n",
    "</div> \n",
    "is called the discriminant. Using the discriminant makes it easy to check the number of solutions for a given quadratic equation:\n",
    "\n",
    "- If the discriminant is 0, the quadratic equation has exactly one real solution.\n",
    "- If the discriminant is > 0, the quadratic equation has two real solutions. \n",
    "- If the discriminant is < 0, the quadratic equation has two complex solutions.\n",
    "\n",
    "Write a program that asks the user for the numbers a, b and c. The program should then print out how many solutions the quadratic equation has.\n",
    "\n",
    "### Below is an example execution of the program: \n",
    "\n",
    "Please enter the value of a: 4  \n",
    "Please enter the value of b: 2  \n",
    "Please enter the value of c: -2  \n",
    "\n",
    "The quadratic equation has 2 real solutions. \n",
    "\n",
    "### Here is another example execution of the program: \n",
    "\n",
    "Please enter the value of a: 1  \n",
    "Please enter the value of b: 2  \n",
    "Please enter the value of c: 3  \n",
    "\n",
    "The quadratic equation has 2 complex solutions.\n",
    "\n",
    "### And here is yet another example execution of the program:\n",
    "\n",
    "Please enter the value of a: 1  \n",
    "Please enter the value of b: 2  \n",
    "Please enter the value of c: 1  \n",
    "\n",
    "The quadratic equation has 1 real solution. "
   ]
  },
  {
   "cell_type": "code",
   "execution_count": 5,
   "id": "fe02afb8",
   "metadata": {},
   "outputs": [
    {
     "name": "stdout",
     "output_type": "stream",
     "text": [
      "Please enter the value of a:4\n",
      "Please enter the value of b:26\n",
      "Please enter the value of c:12\n",
      "The quadratic equation has two real solutions.\n"
     ]
    }
   ],
   "source": [
    "a = int(input('Please enter the value of a:'))\n",
    "b = int(input('Please enter the value of b:'))\n",
    "c = int(input('Please enter the value of c:'))\n",
    "\n",
    "if b ** 2 - 4 * a * c == 0:\n",
    "    print('The quadratic equation has one real solution.')\n",
    "elif b ** 2 - 4 * a * c > 0:\n",
    "    print('The quadratic equation has two real solutions.')\n",
    "elif b ** 2 - 4 * a * c < 0:\n",
    "    print('The quadratic equation has two complex solutions.')"
   ]
  }
 ],
 "metadata": {
  "kernelspec": {
   "display_name": "Python 3 (ipykernel)",
   "language": "python",
   "name": "python3"
  },
  "language_info": {
   "codemirror_mode": {
    "name": "ipython",
    "version": 3
   },
   "file_extension": ".py",
   "mimetype": "text/x-python",
   "name": "python",
   "nbconvert_exporter": "python",
   "pygments_lexer": "ipython3",
   "version": "3.11.4"
  }
 },
 "nbformat": 4,
 "nbformat_minor": 5
}
